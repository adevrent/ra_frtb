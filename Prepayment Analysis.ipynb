{
 "cells": [
  {
   "cell_type": "markdown",
   "id": "fa8e5846-de89-486f-853c-f31883e8bfb6",
   "metadata": {},
   "source": [
    "### Prepayment Analysis"
   ]
  },
  {
   "cell_type": "code",
   "execution_count": 222,
   "id": "4c0215b2-876c-4d30-88c9-01f387a7d06f",
   "metadata": {},
   "outputs": [],
   "source": [
    "import numpy as np\n",
    "import pandas as pd\n",
    "import pyreadr\n",
    "import warnings\n",
    "import lifelines\n",
    "import matplotlib.pyplot as plt\n",
    "\n",
    "from scipy import stats\n",
    "from datetime import timedelta\n",
    "from timeit import default_timer as timer\n",
    "from itertools import combinations, batched\n",
    "from pathlib import Path\n",
    "from tqdm import tqdm\n",
    "from rich.progress import track\n",
    "from sklearn.preprocessing import LabelEncoder\n",
    "from sklearn.linear_model import LinearRegression\n",
    "from sksurv.nonparametric import kaplan_meier_estimator\n",
    "from rich.progress import BarColumn, MofNCompleteColumn, Progress, TextColumn, TimeElapsedColumn, TimeRemainingColumn\n",
    "from lifelines import KaplanMeierFitter, WeibullAFTFitter, CoxPHFitter\n",
    "from lifelines import WeibullFitter, ExponentialFitter, LogNormalFitter, LogLogisticFitter, PiecewiseExponentialFitter, NelsonAalenFitter, SplineFitter\n",
    "from lifelines.utils import find_best_parametric_model, median_survival_times\n",
    "\n",
    "from IPython.display import display, HTML, Markdown\n",
    "import plotly.graph_objects as go\n",
    "from plotly.subplots import make_subplots\n",
    "\n",
    "warnings.simplefilter('ignore')"
   ]
  },
  {
   "cell_type": "markdown",
   "id": "065785df-62c9-486e-9a0c-d746609ee80f",
   "metadata": {},
   "source": [
    "#### Load Data"
   ]
  },
  {
   "cell_type": "code",
   "execution_count": 223,
   "id": "3ffc857e-1304-430b-b6fa-6b239ecae7ab",
   "metadata": {},
   "outputs": [],
   "source": [
    "wd = 'D:/'\n",
    "wd_SAVE = r\"C:\\Users\\adevr\\riskactive_main\\FRTB\\From_Sait\\Prepayment Analysis\"\n",
    "wd_PRAM = r\"C:\\Users\\adevr\\riskactive_main\\FRTB\\From_Sait\""
   ]
  },
  {
   "cell_type": "code",
   "execution_count": 224,
   "id": "1c1aab7a-b17f-4340-b799-3c3f9808d425",
   "metadata": {},
   "outputs": [
    {
     "name": "stdout",
     "output_type": "stream",
     "text": [
      "  REPORT_DATE  BRANCH  CUSTOMER_NO  CUSTOMER_EX_NO  NOTIONAL CURRENCY  \\\n",
      "0  2025-09-01    4444       123456            9001   1000000      USD   \n",
      "1  2025-09-01    4444       123456            9001   1000000      TRY   \n",
      "2  2025-09-02    4444       123456            9001   1000000      USD   \n",
      "3  2025-09-02    4444       123456            9001   1000000      TRY   \n",
      "4  2025-09-03    4444       123456            9001   1000000      USD   \n",
      "\n",
      "   INTEREST_RATE  GL_CODE_LONG OPENING_DATE EFFECTIVE_DATE   MATURITY  \\\n",
      "0            3.5        140302   2025-09-01     2025-09-01 2025-11-30   \n",
      "1           47.0        118202   2025-09-01     2025-09-01 2025-11-30   \n",
      "2            3.5        140302   2025-09-02     2025-09-02 2025-12-01   \n",
      "3           47.0        118202   2025-09-02     2025-09-02 2025-12-01   \n",
      "4            3.5        140302   2025-09-03     2025-09-03 2025-12-02   \n",
      "\n",
      "            PRODUCT_CODE                                CUSTOMER_ID  \n",
      "0  Taksitli.Ticari.Kredi  4444//123456//9001//Taksitli.Ticari.Kredi  \n",
      "1        İhtiyac.Kredisi        4444//123456//9001//İhtiyac.Kredisi  \n",
      "2  Taksitli.Ticari.Kredi  4444//123456//9001//Taksitli.Ticari.Kredi  \n",
      "3        İhtiyac.Kredisi        4444//123456//9001//İhtiyac.Kredisi  \n",
      "4  Taksitli.Ticari.Kredi  4444//123456//9001//Taksitli.Ticari.Kredi  \n"
     ]
    }
   ],
   "source": [
    "progress_bar = Progress(TextColumn(\"[progress.percentage]{task.percentage:>3.0f}%\"),\n",
    "                        BarColumn(),\n",
    "                        MofNCompleteColumn(),\n",
    "                        TextColumn(\"•\"),\n",
    "                        TimeElapsedColumn(),\n",
    "                        TextColumn(\"•\"),\n",
    "                        TimeRemainingColumn())\n",
    "\n",
    "prepayment_filepath = r\"C:\\Users\\adevr\\riskactive_main\\FRTB\\From_Sait\\Prepayment Analysis\\PREPAYMENT_DATA.xlsx\"\n",
    "data = pd.read_excel(prepayment_filepath)\n",
    "\n",
    "data.columns = data.columns.astype(str).str.replace(\".\", \"_\")\n",
    "print(data.head())"
   ]
  },
  {
   "cell_type": "code",
   "execution_count": null,
   "id": "56ca3150-8537-4b89-84c1-0503ba461dcc",
   "metadata": {},
   "outputs": [],
   "source": [
    "Turkey_Holidays = pd.read_excel(f\"{wd_PRAM}/Turkey_Holidays.xlsx\")\n",
    "Turkey_Holidays['TURKEY_HOLIDAYS'] = pd.to_datetime(Turkey_Holidays['TURKEY_HOLIDAYS'])\n",
    "\n",
    "Business_Days = pd.date_range(start=\"2017-01-01\", end=\"2025-12-31\", freq='B')\n",
    "Turkey_Business_Days = Business_Days[~Business_Days.isin(Turkey_Holidays['TURKEY_HOLIDAYS'])]\n",
    "\n",
    "Monthly_Business_Days = (\n",
    "    pd.DataFrame({\"Business_Days\": Turkey_Business_Days})\n",
    "    .assign(YearMonth=lambda df: df[\"Business_Days\"].dt.to_period(\"M\"))\n",
    "    .groupby(\"YearMonth\")[\"Business_Days\"]\n",
    "    .agg([\"first\", \"last\"])\n",
    "    .reset_index()\n",
    ")\n",
    "\n",
    "def next_business_day(date, holidays):\n",
    "    next_day = date + timedelta(days=1)\n",
    "    while next_day.weekday() >= 5 or next_day in holidays:\n",
    "        next_day += timedelta(days=1)\n",
    "    return next_day\n",
    "\n",
    "def classify_time_bucket(months):\n",
    "    if 0 <= months <= 6:\n",
    "        return \"0-6M\"\n",
    "    elif 6 < months <= 12:\n",
    "        return \"6-12M\"\n",
    "    elif 12 < months <= 24:\n",
    "        return \"1-2Y\"\n",
    "    elif 24 < months <= 36:\n",
    "        return \"2-3Y\"\n",
    "    elif 36 < months <= 48:\n",
    "        return \"3-4Y\"\n",
    "    elif 48 < months <= 60:\n",
    "        return \"4-5Y\"\n",
    "    elif 60 < months <= 120:\n",
    "        return \"5-10Y\"\n",
    "    elif months > 120:\n",
    "        return \"+10Y\"\n",
    "    else:\n",
    "        return \"--\"\n",
    "\n",
    "def rolling_dates(data, year = 5):\n",
    "    rolling_dates = []\n",
    "    period = year*12\n",
    "    for i in range(len(data) - (period-1)):\n",
    "        START_DATE = data.loc[i, \"first\"]\n",
    "        END_DATE = data.loc[i + (period-1), \"last\"]\n",
    "        rolling_dates.append({\"START_DATE\": START_DATE, \"END_DATE\": END_DATE})\n",
    "    \n",
    "    rolling_dates = pd.DataFrame(rolling_dates)\n",
    "    \n",
    "    return rolling_dates\n",
    "\n",
    "def separate_customer_id(customer_id):\n",
    "    try:\n",
    "        parts = customer_id.split(' // ')\n",
    "        return pd.Series(parts, index=['BRANCH', 'CUSTOMER_NO', 'PRODUCT_CODE', 'CURRENCY'])\n",
    "    except:\n",
    "        return pd.Series([None, None, None, None], index=['BRANCH', 'CUSTOMER_NO', 'PRODUCT_CODE', 'CURRENCY'])\n",
    "\n",
    "def move_string_to_end(s):\n",
    "    parts = s.split(',')\n",
    "    if \"Currency\" in parts:\n",
    "        parts.remove(\"Currency\")\n",
    "        parts.append(\"Currency\")\n",
    "    return \",\".join(parts)  \n",
    "\n",
    "def kaplan_meier_estimator_custom(df):\n",
    "\n",
    "    if df is None or df.empty:\n",
    "        raise ValueError(\"Input DataFrame is empty or None\")\n",
    "\n",
    "    kme = kaplan_meier_estimator(df[\"Status_TF\"], df[\"Survival_in_Days\"], conf_type=\"log-log\")\n",
    "    \n",
    "    time_points = kme[0]\n",
    "    survival_probabilities = kme[1]\n",
    "    confidence_interval = kme[2]\n",
    "    \n",
    "    median_survival_time = np.interp(0.5, survival_probabilities[::-1], time_points[::-1])\n",
    "    \n",
    "    survival_probabilities_diff = survival_probabilities - 0.5\n",
    "    median_survival_time_adj = np.interp(min(survival_probabilities_diff), survival_probabilities_diff[::-1], time_points[::-1])\n",
    "    \n",
    "    if min(survival_probabilities) > 0.5:  \n",
    "        median_survival_time = median_survival_time_adj\n",
    "        \n",
    "    return time_points, survival_probabilities, confidence_interval, median_survival_time\n",
    "\n",
    "def move_string_to_end(s):\n",
    "    parts = s.split(',')\n",
    "    if \"Currency\" in parts:\n",
    "        parts.remove(\"Currency\")\n",
    "        parts.append(\"Currency\")\n",
    "    return \",\".join(parts)\n",
    "\n",
    "def data_model(data, data_year_basis = None, start_date = None, end_date = None, excel = False, Max_Report_Date = None):\n",
    "    if Max_Report_Date is None:\n",
    "        Max_Report_Date = data.groupby('CUSTOMER_ID')['REPORT_DATE'].max().reset_index().rename(columns={'REPORT_DATE': 'MAX_RPT'})\n",
    "    data['REPORT_DATE'] = pd.to_datetime(data['REPORT_DATE'])\n",
    "\n",
    "    if data_year_basis is not None:\n",
    "        df_rolling_dates = rolling_dates(Monthly_Business_Days, year = data_year_basis)\n",
    "        start_date = df_rolling_dates['START_DATE'].iloc[-1]\n",
    "        end_date = df_rolling_dates['END_DATE'].iloc[-1]\n",
    "        data = data[(data['REPORT_DATE'] >= start_date) & (data['REPORT_DATE'] <= end_date)]\n",
    "        data.reset_index(drop=True, inplace=True)\n",
    "\n",
    "    if start_date is not None and  end_date is not None:\n",
    "        data = data[(data['REPORT_DATE'] >= start_date) & (data['REPORT_DATE'] <= end_date)]\n",
    "        data.reset_index(drop=True, inplace=True)\n",
    "        \n",
    "    currency_series = data[\"CURRENCY\"]\n",
    "    \n",
    "    data = (\n",
    "        data\n",
    "        .assign(\n",
    "            NO=lambda x: np.where(\n",
    "                x['REPORT_DATE'] == x['CUSTOMER_ID'].map(Max_Report_Date.set_index('CUSTOMER_ID')['MAX_RPT']), 1, 0\n",
    "            )\n",
    "        )\n",
    "        .query(\"NO == 1\")\n",
    "        .assign(LAST_REPORT_DATE=lambda x: x['REPORT_DATE'].max())\n",
    "        .assign(MAX_RPT_DATE=lambda x: x['CUSTOMER_ID'].map(Max_Report_Date.set_index('CUSTOMER_ID')['MAX_RPT']))\n",
    "        .groupby('CUSTOMER_ID')\n",
    "        .agg({\n",
    "            'REPORT_DATE': 'max',\n",
    "            'EFFECTIVE_DATE': 'max',\n",
    "            'MATURITY': 'max',\n",
    "            'NOTIONAL': 'max',\n",
    "            'LAST_REPORT_DATE': 'max'\n",
    "        })\n",
    "        .reset_index()\n",
    "        .assign(\n",
    "            MATURITY_CONT=lambda x: np.where(x['MATURITY'].dt.weekday >= 5, 1, 0),\n",
    "            MATURITY_NEW=lambda x: np.where(\n",
    "                x['MATURITY'].dt.weekday == 5, x['MATURITY'] + timedelta(days=2),\n",
    "                np.where(x['MATURITY'].dt.weekday == 6, x['MATURITY'] + timedelta(days=1), x['MATURITY'])\n",
    "            ),\n",
    "            NEXT_BUS_DATE=lambda x: x['REPORT_DATE'].apply(lambda x: next_business_day(x, Turkey_Holidays)),        \n",
    "            Maturity_Periods_D=lambda x: (x['MATURITY_NEW'] - x['EFFECTIVE_DATE']).dt.days,\n",
    "            Maturity_Periods_M=lambda x: (x['MATURITY_NEW'] - x['EFFECTIVE_DATE']).dt.days / (365.25 / 12),\n",
    "            SURV_TIME=lambda x: (x['NEXT_BUS_DATE'] - x['EFFECTIVE_DATE']).dt.days,\n",
    "            DIFF_TIME=lambda x: (x['MATURITY_NEW'] - x['NEXT_BUS_DATE']).dt.days,\n",
    "            #DIFF_MONTH=lambda x: (x['MATURITY_NEW'].apply(lambda date: date - (date - pd.offsets.MonthEnd(1)))).dt.days,\n",
    "            DIFF_MONTH=lambda x: (x['MATURITY_NEW'] - (x['MATURITY_NEW'] - pd.DateOffset(months=1))).dt.days,\n",
    "            TIME_BUCKET=lambda x: x['Maturity_Periods_M'].apply(classify_time_bucket)        \n",
    "        )\n",
    "        .assign(\n",
    "            Prepayment_Status=lambda x: np.where(\n",
    "                (x['NEXT_BUS_DATE'] < x['MATURITY_NEW']) & (x['DIFF_TIME'] > x['DIFF_MONTH']),\n",
    "                \"Early\", \"OnTime\"\n",
    "            )\n",
    "        )    \n",
    "    )\n",
    "    # print(data.head())\n",
    "    data[\"CURRENCY\"] = currency_series.loc[data.index].values\n",
    "\n",
    "    data = data[data['DIFF_TIME'] >= 0]\n",
    "    data[['BRANCH', 'CUSTOMER_NO','CUSTOMER_EX_NO', 'PRODUCT_CODE']] = (data['CUSTOMER_ID'].str.split('//', expand=True))   \n",
    "    # print(data.head())  # TODO\n",
    "    selected_columns = [\n",
    "        'REPORT_DATE','CUSTOMER_ID','BRANCH','CUSTOMER_NO','CUSTOMER_EX_NO','PRODUCT_CODE',\n",
    "        'CURRENCY','EFFECTIVE_DATE','MATURITY','NOTIONAL',\n",
    "        'LAST_REPORT_DATE','MATURITY_CONT','MATURITY_NEW','NEXT_BUS_DATE',\n",
    "        'Maturity_Periods_D','Maturity_Periods_M','SURV_TIME',\n",
    "        'DIFF_TIME','DIFF_MONTH','TIME_BUCKET','Prepayment_Status'\n",
    "    ]\n",
    "    data = data[selected_columns]\n",
    "  \n",
    "    data = data[selected_columns]\n",
    "    data = data[['REPORT_DATE','NOTIONAL','BRANCH','CURRENCY' ,'PRODUCT_CODE','TIME_BUCKET','SURV_TIME','Prepayment_Status']].copy()\n",
    "    data.rename(columns={'REPORT_DATE': 'Report_Date', 'NOTIONAL': 'Notional','BRANCH': 'Branch', 'CURRENCY': 'Currency', 'PRODUCT_CODE': 'Product_Code',\n",
    "                          'TIME_BUCKET': 'Time_Bucket', 'SURV_TIME': 'Survival_in_Days', 'Prepayment_Status': 'Status'}, inplace=True)    \n",
    "    data['Status_TF'] = data['Status']\n",
    "    data['Status_YN'] = data['Status']\n",
    "    data['Status'] = data['Status'].replace({'Early': 1, 'OnTime': 0})\n",
    "    data['Status_TF'] = data['Status_TF'].replace({'Early': True, 'OnTime': False})\n",
    "    data['Status_YN'] = data['Status_YN'].replace({'Early': 'Yes', 'OnTime': 'No'})\n",
    "    data[\"Prepayment_Notional\"] = data[\"Notional\"] * (data[\"Status\"] == 1)\n",
    "        \n",
    "    if excel:\n",
    "        data = pd.DataFrame(data)    \n",
    "        data.to_excel(wd_SAVE+'Report_Prepayment_df.xlsx', index=False)\n",
    "        \n",
    "    return data"
   ]
  },
  {
   "cell_type": "markdown",
   "id": "8300f52f-80d8-47fa-819a-ec1bec12b201",
   "metadata": {},
   "source": [
    "#### --------- Model Data ---------"
   ]
  },
  {
   "cell_type": "code",
   "execution_count": 226,
   "id": "4b204e04-c0cb-45e9-a58a-b939f33a8e00",
   "metadata": {},
   "outputs": [],
   "source": [
    "Max_Report_Date = (\n",
    "    data.groupby('CUSTOMER_ID')['REPORT_DATE']\n",
    "    .agg(MAX_RPT='max', \n",
    "         N_RPT='size')\n",
    "    .reset_index()\n",
    ")\n",
    "\n",
    "Max_Report_Date['CUSTOMER_IDs'] = Max_Report_Date.loc[:, 'CUSTOMER_ID']\n",
    "Max_Report_Date.set_index('CUSTOMER_IDs', inplace=True)\n",
    "Max_Report_Date.index.names = ['CUSTOMER_ID']"
   ]
  },
  {
   "cell_type": "code",
   "execution_count": 227,
   "id": "139c08a5-6d86-4468-96fe-76f45506f255",
   "metadata": {},
   "outputs": [
    {
     "data": {
      "text/html": [
       "<div>\n",
       "<style scoped>\n",
       "    .dataframe tbody tr th:only-of-type {\n",
       "        vertical-align: middle;\n",
       "    }\n",
       "\n",
       "    .dataframe tbody tr th {\n",
       "        vertical-align: top;\n",
       "    }\n",
       "\n",
       "    .dataframe thead th {\n",
       "        text-align: right;\n",
       "    }\n",
       "</style>\n",
       "<table border=\"1\" class=\"dataframe\">\n",
       "  <thead>\n",
       "    <tr style=\"text-align: right;\">\n",
       "      <th></th>\n",
       "      <th>START_DATE</th>\n",
       "      <th>END_DATE</th>\n",
       "    </tr>\n",
       "  </thead>\n",
       "  <tbody>\n",
       "    <tr>\n",
       "      <th>5</th>\n",
       "      <td>2017-06-01</td>\n",
       "      <td>2025-05-30</td>\n",
       "    </tr>\n",
       "    <tr>\n",
       "      <th>6</th>\n",
       "      <td>2017-07-03</td>\n",
       "      <td>2025-06-30</td>\n",
       "    </tr>\n",
       "    <tr>\n",
       "      <th>7</th>\n",
       "      <td>2017-08-01</td>\n",
       "      <td>2025-07-31</td>\n",
       "    </tr>\n",
       "    <tr>\n",
       "      <th>8</th>\n",
       "      <td>2017-09-05</td>\n",
       "      <td>2025-08-29</td>\n",
       "    </tr>\n",
       "    <tr>\n",
       "      <th>9</th>\n",
       "      <td>2017-10-02</td>\n",
       "      <td>2025-09-30</td>\n",
       "    </tr>\n",
       "  </tbody>\n",
       "</table>\n",
       "</div>"
      ],
      "text/plain": [
       "  START_DATE   END_DATE\n",
       "5 2017-06-01 2025-05-30\n",
       "6 2017-07-03 2025-06-30\n",
       "7 2017-08-01 2025-07-31\n",
       "8 2017-09-05 2025-08-29\n",
       "9 2017-10-02 2025-09-30"
      ]
     },
     "execution_count": 227,
     "metadata": {},
     "output_type": "execute_result"
    }
   ],
   "source": [
    "last_date_of_report = max(Max_Report_Date['MAX_RPT'])\n",
    "\n",
    "last_date_of_month = last_date_of_report.replace(month=last_date_of_report.month+1, day=1) - timedelta(days=1)\n",
    "\n",
    "Monthly_Business_Days = Monthly_Business_Days[(Monthly_Business_Days['last'] <= last_date_of_month)]\n",
    "\n",
    "Rolling_Dates = rolling_dates(Monthly_Business_Days, year = 8)\n",
    "\n",
    "Rolling_Dates.tail()"
   ]
  },
  {
   "cell_type": "code",
   "execution_count": 228,
   "id": "c3897a8a-ad51-40ca-a774-12ae320fc502",
   "metadata": {},
   "outputs": [
    {
     "name": "stdout",
     "output_type": "stream",
     "text": [
      "                                 CUSTOMER_ID REPORT_DATE EFFECTIVE_DATE  \\\n",
      "0  4444//123456//9001//Taksitli.Ticari.Kredi  2025-09-12     2025-09-12   \n",
      "1        4444//123456//9001//İhtiyac.Kredisi  2025-09-12     2025-09-12   \n",
      "\n",
      "    MATURITY  NOTIONAL LAST_REPORT_DATE  MATURITY_CONT MATURITY_NEW  \\\n",
      "0 2026-03-11   1000000       2025-09-12              0   2026-03-11   \n",
      "1 2026-03-11   1000000       2025-09-12              0   2026-03-11   \n",
      "\n",
      "  NEXT_BUS_DATE  Maturity_Periods_D  Maturity_Periods_M  SURV_TIME  DIFF_TIME  \\\n",
      "0    2025-09-15                 180            5.913758          3        177   \n",
      "1    2025-09-15                 180            5.913758          3        177   \n",
      "\n",
      "   DIFF_MONTH TIME_BUCKET Prepayment_Status  \n",
      "0          28        0-6M             Early  \n",
      "1          28        0-6M             Early  \n"
     ]
    },
    {
     "data": {
      "text/html": [
       "<div>\n",
       "<style scoped>\n",
       "    .dataframe tbody tr th:only-of-type {\n",
       "        vertical-align: middle;\n",
       "    }\n",
       "\n",
       "    .dataframe tbody tr th {\n",
       "        vertical-align: top;\n",
       "    }\n",
       "\n",
       "    .dataframe thead th {\n",
       "        text-align: right;\n",
       "    }\n",
       "</style>\n",
       "<table border=\"1\" class=\"dataframe\">\n",
       "  <thead>\n",
       "    <tr style=\"text-align: right;\">\n",
       "      <th></th>\n",
       "      <th>Report_Date</th>\n",
       "      <th>Notional</th>\n",
       "      <th>Branch</th>\n",
       "      <th>Currency</th>\n",
       "      <th>Product_Code</th>\n",
       "      <th>Time_Bucket</th>\n",
       "      <th>Survival_in_Days</th>\n",
       "      <th>Status</th>\n",
       "      <th>Status_TF</th>\n",
       "      <th>Status_YN</th>\n",
       "      <th>Prepayment_Notional</th>\n",
       "    </tr>\n",
       "  </thead>\n",
       "  <tbody>\n",
       "    <tr>\n",
       "      <th>0</th>\n",
       "      <td>2025-09-12</td>\n",
       "      <td>1000000</td>\n",
       "      <td>4444</td>\n",
       "      <td>USD</td>\n",
       "      <td>Taksitli.Ticari.Kredi</td>\n",
       "      <td>0-6M</td>\n",
       "      <td>3</td>\n",
       "      <td>1</td>\n",
       "      <td>True</td>\n",
       "      <td>Yes</td>\n",
       "      <td>1000000</td>\n",
       "    </tr>\n",
       "    <tr>\n",
       "      <th>1</th>\n",
       "      <td>2025-09-12</td>\n",
       "      <td>1000000</td>\n",
       "      <td>4444</td>\n",
       "      <td>TRY</td>\n",
       "      <td>İhtiyac.Kredisi</td>\n",
       "      <td>0-6M</td>\n",
       "      <td>3</td>\n",
       "      <td>1</td>\n",
       "      <td>True</td>\n",
       "      <td>Yes</td>\n",
       "      <td>1000000</td>\n",
       "    </tr>\n",
       "  </tbody>\n",
       "</table>\n",
       "</div>"
      ],
      "text/plain": [
       "  Report_Date  Notional Branch Currency           Product_Code Time_Bucket  \\\n",
       "0  2025-09-12   1000000   4444      USD  Taksitli.Ticari.Kredi        0-6M   \n",
       "1  2025-09-12   1000000   4444      TRY        İhtiyac.Kredisi        0-6M   \n",
       "\n",
       "   Survival_in_Days  Status  Status_TF Status_YN  Prepayment_Notional  \n",
       "0                 3       1       True       Yes              1000000  \n",
       "1                 3       1       True       Yes              1000000  "
      ]
     },
     "execution_count": 228,
     "metadata": {},
     "output_type": "execute_result"
    }
   ],
   "source": [
    "Report_Prepayment = data_model(data, \n",
    "                                   data_year_basis = 8, \n",
    "                                   start_date = None,                         \n",
    "                                   end_date = None,                           \n",
    "                                   excel = False)   \n",
    "\n",
    "Report_Prepayment.head()"
   ]
  },
  {
   "cell_type": "code",
   "execution_count": 229,
   "id": "24fb6777-18b5-4595-9ab6-8b2fbe49a34e",
   "metadata": {
    "scrolled": true
   },
   "outputs": [
    {
     "data": {
      "text/html": [
       "<div>\n",
       "<style scoped>\n",
       "    .dataframe tbody tr th:only-of-type {\n",
       "        vertical-align: middle;\n",
       "    }\n",
       "\n",
       "    .dataframe tbody tr th {\n",
       "        vertical-align: top;\n",
       "    }\n",
       "\n",
       "    .dataframe thead th {\n",
       "        text-align: right;\n",
       "    }\n",
       "</style>\n",
       "<table border=\"1\" class=\"dataframe\">\n",
       "  <thead>\n",
       "    <tr style=\"text-align: right;\">\n",
       "      <th></th>\n",
       "      <th>Branch</th>\n",
       "      <th>Currency</th>\n",
       "      <th>Product_Code</th>\n",
       "      <th>Time_Bucket</th>\n",
       "      <th>Prepayment_Ratio</th>\n",
       "    </tr>\n",
       "  </thead>\n",
       "  <tbody>\n",
       "    <tr>\n",
       "      <th>0</th>\n",
       "      <td>4444</td>\n",
       "      <td>TRY</td>\n",
       "      <td>İhtiyac.Kredisi</td>\n",
       "      <td>0-6M</td>\n",
       "      <td>1.0</td>\n",
       "    </tr>\n",
       "    <tr>\n",
       "      <th>1</th>\n",
       "      <td>4444</td>\n",
       "      <td>USD</td>\n",
       "      <td>Taksitli.Ticari.Kredi</td>\n",
       "      <td>0-6M</td>\n",
       "      <td>1.0</td>\n",
       "    </tr>\n",
       "  </tbody>\n",
       "</table>\n",
       "</div>"
      ],
      "text/plain": [
       "  Branch Currency           Product_Code Time_Bucket  Prepayment_Ratio\n",
       "0   4444      TRY        İhtiyac.Kredisi        0-6M               1.0\n",
       "1   4444      USD  Taksitli.Ticari.Kredi        0-6M               1.0"
      ]
     },
     "execution_count": 229,
     "metadata": {},
     "output_type": "execute_result"
    }
   ],
   "source": [
    "Prepayment_Analysis = ( \n",
    "    Report_Prepayment.groupby(['Branch','Currency','Product_Code','Time_Bucket'])[\"Prepayment_Notional\"].sum()\n",
    "    .div(Report_Prepayment.groupby(['Branch','Currency','Product_Code','Time_Bucket'])['Notional'].sum())\n",
    "    .reset_index(name=\"Prepayment_Ratio\")\n",
    "    .round(4)\n",
    ")\n",
    "\n",
    "#Prepayment_Analysis.to_excel(wd_SAVE+'Prepayment_Analysis.xlsx', index=False) \n",
    "Prepayment_Analysis.head()"
   ]
  },
  {
   "cell_type": "markdown",
   "id": "ecd37e66-5adc-4f30-b2c2-2aadcd5ec918",
   "metadata": {},
   "source": [
    "#### --------- Data Control ---------"
   ]
  },
  {
   "cell_type": "code",
   "execution_count": 230,
   "id": "f063dbc8-ac79-4423-9a8f-ba8d13abbd34",
   "metadata": {},
   "outputs": [
    {
     "data": {
      "text/html": [
       "<div>\n",
       "<style scoped>\n",
       "    .dataframe tbody tr th:only-of-type {\n",
       "        vertical-align: middle;\n",
       "    }\n",
       "\n",
       "    .dataframe tbody tr th {\n",
       "        vertical-align: top;\n",
       "    }\n",
       "\n",
       "    .dataframe thead th {\n",
       "        text-align: right;\n",
       "    }\n",
       "</style>\n",
       "<table border=\"1\" class=\"dataframe\">\n",
       "  <thead>\n",
       "    <tr style=\"text-align: right;\">\n",
       "      <th></th>\n",
       "      <th>Report_Date</th>\n",
       "      <th>Notional</th>\n",
       "      <th>Branch</th>\n",
       "      <th>Currency</th>\n",
       "      <th>Product_Code</th>\n",
       "      <th>Time_Bucket</th>\n",
       "      <th>Survival_in_Days</th>\n",
       "      <th>Status</th>\n",
       "      <th>Status_TF</th>\n",
       "      <th>Status_YN</th>\n",
       "      <th>Prepayment_Notional</th>\n",
       "    </tr>\n",
       "  </thead>\n",
       "  <tbody>\n",
       "  </tbody>\n",
       "</table>\n",
       "</div>"
      ],
      "text/plain": [
       "Empty DataFrame\n",
       "Columns: [Report_Date, Notional, Branch, Currency, Product_Code, Time_Bucket, Survival_in_Days, Status, Status_TF, Status_YN, Prepayment_Notional]\n",
       "Index: []"
      ]
     },
     "execution_count": 230,
     "metadata": {},
     "output_type": "execute_result"
    }
   ],
   "source": [
    "Report_Prepayment[Report_Prepayment.isnull().any(axis=1)].sort_values(by='Report_Date')"
   ]
  },
  {
   "cell_type": "code",
   "execution_count": 231,
   "id": "225d6957-3d34-468e-8259-dce3627ad4f7",
   "metadata": {},
   "outputs": [
    {
     "data": {
      "text/plain": [
       "Report_Date            0\n",
       "Notional               0\n",
       "Branch                 0\n",
       "Currency               0\n",
       "Product_Code           0\n",
       "Time_Bucket            0\n",
       "Survival_in_Days       0\n",
       "Status                 0\n",
       "Status_TF              0\n",
       "Status_YN              0\n",
       "Prepayment_Notional    0\n",
       "dtype: int64"
      ]
     },
     "execution_count": 231,
     "metadata": {},
     "output_type": "execute_result"
    }
   ],
   "source": [
    "Report_Prepayment.isnull().sum()"
   ]
  },
  {
   "cell_type": "markdown",
   "id": "5004524e-38ee-46cd-b053-24c9acf7baee",
   "metadata": {},
   "source": [
    "#### Analysis Data - Df"
   ]
  },
  {
   "cell_type": "code",
   "execution_count": 232,
   "id": "67db1430-6a01-4b0d-aea1-afa0da6a7a2b",
   "metadata": {},
   "outputs": [],
   "source": [
    "def df_prepayment(data, \n",
    "                  branch = None, \n",
    "                  product = None, \n",
    "                  time_bucket = None,\n",
    "                  currency = None):\n",
    "    \n",
    "    # Branch,Product_Code,Time_Bucket,Currency\n",
    "    if branch is not None and product is not None and time_bucket is not None and currency is not None:\n",
    "        data = data.loc[(data['Branch'] == branch) & (data['Product_Code'] == product) & (data['Time_Bucket'] == time_bucket) & (data['Currency'] == currency)]\n",
    "        data.reset_index(drop=True, inplace=True)        \n",
    "    # Product_Code,Time_Bucket,Currency\t\n",
    "    if branch is None and product is not None and time_bucket is not None and currency is not None:\n",
    "        data = data.loc[(data['Product_Code'] == product) & (data['Time_Bucket'] == time_bucket) & (data['Currency'] == currency)]\n",
    "        data.reset_index(drop=True, inplace=True)\n",
    "    # Branch,Time_Bucket,Currency\n",
    "    if branch is not None and product is None and time_bucket is not None and currency is not None:\n",
    "        data = data.loc[(data['Branch'] == branch) & (data['Time_Bucket'] == time_bucket) & (data['Currency'] == currency)]\n",
    "        data.reset_index(drop=True, inplace=True)\n",
    "    # Branch,Product_Code,Currency\n",
    "    if branch is not None and product is not None and time_bucket is None and currency is not None:\n",
    "        data = data.loc[(data['Branch'] == branch) & (data['Product_Code'] == product) & (data['Currency'] == currency)]\n",
    "        data.reset_index(drop=True, inplace=True)\n",
    "    # Time_Bucket,Currency\t\n",
    "    if branch is None and product is None and time_bucket is not None and currency is not None:\n",
    "        data = data.loc[(data['Time_Bucket'] == time_bucket) & (data['Currency'] == currency)]\n",
    "        data.reset_index(drop=True, inplace=True)\n",
    "    # Branch,Currency\n",
    "    if branch is not None and product is None and time_bucket is None and currency is not None:\n",
    "        data = data.loc[(data['Branch'] == branch) & (data['Currency'] == currency)]\n",
    "        data.reset_index(drop=True, inplace=True)\n",
    "    # Currency\n",
    "    if branch is None and product is None and time_bucket is None and currency is not None:\n",
    "        data = data.loc[(data['Currency'] == currency)]\n",
    "        data.reset_index(drop=True, inplace=True)\n",
    "    return data"
   ]
  },
  {
   "cell_type": "code",
   "execution_count": 233,
   "id": "42440981-8d2b-4be4-9442-9ff117e200ac",
   "metadata": {},
   "outputs": [
    {
     "data": {
      "text/html": [
       "<div>\n",
       "<style scoped>\n",
       "    .dataframe tbody tr th:only-of-type {\n",
       "        vertical-align: middle;\n",
       "    }\n",
       "\n",
       "    .dataframe tbody tr th {\n",
       "        vertical-align: top;\n",
       "    }\n",
       "\n",
       "    .dataframe thead th {\n",
       "        text-align: right;\n",
       "    }\n",
       "</style>\n",
       "<table border=\"1\" class=\"dataframe\">\n",
       "  <thead>\n",
       "    <tr style=\"text-align: right;\">\n",
       "      <th></th>\n",
       "      <th>Report_Date</th>\n",
       "      <th>Notional</th>\n",
       "      <th>Branch</th>\n",
       "      <th>Currency</th>\n",
       "      <th>Product_Code</th>\n",
       "      <th>Time_Bucket</th>\n",
       "      <th>Survival_in_Days</th>\n",
       "      <th>Status</th>\n",
       "      <th>Status_TF</th>\n",
       "      <th>Status_YN</th>\n",
       "      <th>Prepayment_Notional</th>\n",
       "    </tr>\n",
       "  </thead>\n",
       "  <tbody>\n",
       "    <tr>\n",
       "      <th>0</th>\n",
       "      <td>2025-09-12</td>\n",
       "      <td>1000000</td>\n",
       "      <td>4444</td>\n",
       "      <td>TRY</td>\n",
       "      <td>İhtiyac.Kredisi</td>\n",
       "      <td>0-6M</td>\n",
       "      <td>3</td>\n",
       "      <td>1</td>\n",
       "      <td>True</td>\n",
       "      <td>Yes</td>\n",
       "      <td>1000000</td>\n",
       "    </tr>\n",
       "  </tbody>\n",
       "</table>\n",
       "</div>"
      ],
      "text/plain": [
       "  Report_Date  Notional Branch Currency     Product_Code Time_Bucket  \\\n",
       "0  2025-09-12   1000000   4444      TRY  İhtiyac.Kredisi        0-6M   \n",
       "\n",
       "   Survival_in_Days  Status  Status_TF Status_YN  Prepayment_Notional  \n",
       "0                 3       1       True       Yes              1000000  "
      ]
     },
     "execution_count": 233,
     "metadata": {},
     "output_type": "execute_result"
    }
   ],
   "source": [
    "# ['Personel.Kredisi', 'Ihtiyac.Kredisi', 'Taksitli.Ticari.Krediler', 'Yapilandirilan.Krediler', 'Tasit.Kredisi', 'Konut.Kredisi','Konut.Teminatli.Kredi']\n",
    "# ['TRY', 'EUR', 'USD', 'XAU', 'GBP']\n",
    "# ['1-2Y', '2-3Y', '3-4Y', '6-12M', '0-6M', '5-10Y', '4-5Y', '+10Y']\n",
    "\n",
    "df = df_prepayment(Report_Prepayment, \n",
    "                   branch = None, \n",
    "                   product = None, \n",
    "                   time_bucket = None , \n",
    "                   currency = 'TRY')\n",
    "#df.to_excel(wd_SAVE+'df.xlsx', index=False)                        \n",
    "df.head()"
   ]
  },
  {
   "cell_type": "markdown",
   "id": "431600e3-49ce-4eb6-8c19-e04a25ac4375",
   "metadata": {},
   "source": [
    "#### Survival Analysis : scikit-survival - Kaplan-Meier Model"
   ]
  },
  {
   "cell_type": "code",
   "execution_count": 234,
   "id": "b7c9c846-eaad-43a1-a5d1-aad914dc3db4",
   "metadata": {},
   "outputs": [
    {
     "data": {
      "application/vnd.plotly.v1+json": {
       "config": {
        "plotlyServerURL": "https://plot.ly"
       },
       "data": [
        {
         "line": {
          "color": "darkorange"
         },
         "mode": "lines",
         "name": "Notional / Core Deposit",
         "type": "scatter",
         "x": {
          "bdata": "Aw==",
          "dtype": "i1"
         },
         "xaxis": "x",
         "y": {
          "bdata": "AAAAAAAAAAA=",
          "dtype": "f8"
         },
         "yaxis": "y"
        }
       ],
       "layout": {
        "height": 500,
        "plot_bgcolor": "#fff",
        "shapes": [
         {
          "line": {
           "color": "royalblue",
           "dash": "dot",
           "width": 2
          },
          "type": "line",
          "x0": 3,
          "x1": 3,
          "xref": "x",
          "y0": 0,
          "y1": 1,
          "yref": "y domain"
         },
         {
          "line": {
           "color": "firebrick",
           "dash": "dot",
           "width": 2
          },
          "type": "line",
          "x0": 365.25,
          "x1": 365.25,
          "xref": "x",
          "y0": 0,
          "y1": 1,
          "yref": "y domain"
         },
         {
          "line": {
           "color": "firebrick",
           "dash": "dot",
           "width": 2
          },
          "type": "line",
          "x0": 0,
          "x1": 1,
          "xref": "x domain",
          "y0": 0,
          "y1": 0,
          "yref": "y"
         }
        ],
        "showlegend": false,
        "template": {
         "data": {
          "bar": [
           {
            "error_x": {
             "color": "#2a3f5f"
            },
            "error_y": {
             "color": "#2a3f5f"
            },
            "marker": {
             "line": {
              "color": "#E5ECF6",
              "width": 0.5
             },
             "pattern": {
              "fillmode": "overlay",
              "size": 10,
              "solidity": 0.2
             }
            },
            "type": "bar"
           }
          ],
          "barpolar": [
           {
            "marker": {
             "line": {
              "color": "#E5ECF6",
              "width": 0.5
             },
             "pattern": {
              "fillmode": "overlay",
              "size": 10,
              "solidity": 0.2
             }
            },
            "type": "barpolar"
           }
          ],
          "carpet": [
           {
            "aaxis": {
             "endlinecolor": "#2a3f5f",
             "gridcolor": "white",
             "linecolor": "white",
             "minorgridcolor": "white",
             "startlinecolor": "#2a3f5f"
            },
            "baxis": {
             "endlinecolor": "#2a3f5f",
             "gridcolor": "white",
             "linecolor": "white",
             "minorgridcolor": "white",
             "startlinecolor": "#2a3f5f"
            },
            "type": "carpet"
           }
          ],
          "choropleth": [
           {
            "colorbar": {
             "outlinewidth": 0,
             "ticks": ""
            },
            "type": "choropleth"
           }
          ],
          "contour": [
           {
            "colorbar": {
             "outlinewidth": 0,
             "ticks": ""
            },
            "colorscale": [
             [
              0,
              "#0d0887"
             ],
             [
              0.1111111111111111,
              "#46039f"
             ],
             [
              0.2222222222222222,
              "#7201a8"
             ],
             [
              0.3333333333333333,
              "#9c179e"
             ],
             [
              0.4444444444444444,
              "#bd3786"
             ],
             [
              0.5555555555555556,
              "#d8576b"
             ],
             [
              0.6666666666666666,
              "#ed7953"
             ],
             [
              0.7777777777777778,
              "#fb9f3a"
             ],
             [
              0.8888888888888888,
              "#fdca26"
             ],
             [
              1,
              "#f0f921"
             ]
            ],
            "type": "contour"
           }
          ],
          "contourcarpet": [
           {
            "colorbar": {
             "outlinewidth": 0,
             "ticks": ""
            },
            "type": "contourcarpet"
           }
          ],
          "heatmap": [
           {
            "colorbar": {
             "outlinewidth": 0,
             "ticks": ""
            },
            "colorscale": [
             [
              0,
              "#0d0887"
             ],
             [
              0.1111111111111111,
              "#46039f"
             ],
             [
              0.2222222222222222,
              "#7201a8"
             ],
             [
              0.3333333333333333,
              "#9c179e"
             ],
             [
              0.4444444444444444,
              "#bd3786"
             ],
             [
              0.5555555555555556,
              "#d8576b"
             ],
             [
              0.6666666666666666,
              "#ed7953"
             ],
             [
              0.7777777777777778,
              "#fb9f3a"
             ],
             [
              0.8888888888888888,
              "#fdca26"
             ],
             [
              1,
              "#f0f921"
             ]
            ],
            "type": "heatmap"
           }
          ],
          "histogram": [
           {
            "marker": {
             "pattern": {
              "fillmode": "overlay",
              "size": 10,
              "solidity": 0.2
             }
            },
            "type": "histogram"
           }
          ],
          "histogram2d": [
           {
            "colorbar": {
             "outlinewidth": 0,
             "ticks": ""
            },
            "colorscale": [
             [
              0,
              "#0d0887"
             ],
             [
              0.1111111111111111,
              "#46039f"
             ],
             [
              0.2222222222222222,
              "#7201a8"
             ],
             [
              0.3333333333333333,
              "#9c179e"
             ],
             [
              0.4444444444444444,
              "#bd3786"
             ],
             [
              0.5555555555555556,
              "#d8576b"
             ],
             [
              0.6666666666666666,
              "#ed7953"
             ],
             [
              0.7777777777777778,
              "#fb9f3a"
             ],
             [
              0.8888888888888888,
              "#fdca26"
             ],
             [
              1,
              "#f0f921"
             ]
            ],
            "type": "histogram2d"
           }
          ],
          "histogram2dcontour": [
           {
            "colorbar": {
             "outlinewidth": 0,
             "ticks": ""
            },
            "colorscale": [
             [
              0,
              "#0d0887"
             ],
             [
              0.1111111111111111,
              "#46039f"
             ],
             [
              0.2222222222222222,
              "#7201a8"
             ],
             [
              0.3333333333333333,
              "#9c179e"
             ],
             [
              0.4444444444444444,
              "#bd3786"
             ],
             [
              0.5555555555555556,
              "#d8576b"
             ],
             [
              0.6666666666666666,
              "#ed7953"
             ],
             [
              0.7777777777777778,
              "#fb9f3a"
             ],
             [
              0.8888888888888888,
              "#fdca26"
             ],
             [
              1,
              "#f0f921"
             ]
            ],
            "type": "histogram2dcontour"
           }
          ],
          "mesh3d": [
           {
            "colorbar": {
             "outlinewidth": 0,
             "ticks": ""
            },
            "type": "mesh3d"
           }
          ],
          "parcoords": [
           {
            "line": {
             "colorbar": {
              "outlinewidth": 0,
              "ticks": ""
             }
            },
            "type": "parcoords"
           }
          ],
          "pie": [
           {
            "automargin": true,
            "type": "pie"
           }
          ],
          "scatter": [
           {
            "fillpattern": {
             "fillmode": "overlay",
             "size": 10,
             "solidity": 0.2
            },
            "type": "scatter"
           }
          ],
          "scatter3d": [
           {
            "line": {
             "colorbar": {
              "outlinewidth": 0,
              "ticks": ""
             }
            },
            "marker": {
             "colorbar": {
              "outlinewidth": 0,
              "ticks": ""
             }
            },
            "type": "scatter3d"
           }
          ],
          "scattercarpet": [
           {
            "marker": {
             "colorbar": {
              "outlinewidth": 0,
              "ticks": ""
             }
            },
            "type": "scattercarpet"
           }
          ],
          "scattergeo": [
           {
            "marker": {
             "colorbar": {
              "outlinewidth": 0,
              "ticks": ""
             }
            },
            "type": "scattergeo"
           }
          ],
          "scattergl": [
           {
            "marker": {
             "colorbar": {
              "outlinewidth": 0,
              "ticks": ""
             }
            },
            "type": "scattergl"
           }
          ],
          "scattermap": [
           {
            "marker": {
             "colorbar": {
              "outlinewidth": 0,
              "ticks": ""
             }
            },
            "type": "scattermap"
           }
          ],
          "scattermapbox": [
           {
            "marker": {
             "colorbar": {
              "outlinewidth": 0,
              "ticks": ""
             }
            },
            "type": "scattermapbox"
           }
          ],
          "scatterpolar": [
           {
            "marker": {
             "colorbar": {
              "outlinewidth": 0,
              "ticks": ""
             }
            },
            "type": "scatterpolar"
           }
          ],
          "scatterpolargl": [
           {
            "marker": {
             "colorbar": {
              "outlinewidth": 0,
              "ticks": ""
             }
            },
            "type": "scatterpolargl"
           }
          ],
          "scatterternary": [
           {
            "marker": {
             "colorbar": {
              "outlinewidth": 0,
              "ticks": ""
             }
            },
            "type": "scatterternary"
           }
          ],
          "surface": [
           {
            "colorbar": {
             "outlinewidth": 0,
             "ticks": ""
            },
            "colorscale": [
             [
              0,
              "#0d0887"
             ],
             [
              0.1111111111111111,
              "#46039f"
             ],
             [
              0.2222222222222222,
              "#7201a8"
             ],
             [
              0.3333333333333333,
              "#9c179e"
             ],
             [
              0.4444444444444444,
              "#bd3786"
             ],
             [
              0.5555555555555556,
              "#d8576b"
             ],
             [
              0.6666666666666666,
              "#ed7953"
             ],
             [
              0.7777777777777778,
              "#fb9f3a"
             ],
             [
              0.8888888888888888,
              "#fdca26"
             ],
             [
              1,
              "#f0f921"
             ]
            ],
            "type": "surface"
           }
          ],
          "table": [
           {
            "cells": {
             "fill": {
              "color": "#EBF0F8"
             },
             "line": {
              "color": "white"
             }
            },
            "header": {
             "fill": {
              "color": "#C8D4E3"
             },
             "line": {
              "color": "white"
             }
            },
            "type": "table"
           }
          ]
         },
         "layout": {
          "annotationdefaults": {
           "arrowcolor": "#2a3f5f",
           "arrowhead": 0,
           "arrowwidth": 1
          },
          "autotypenumbers": "strict",
          "coloraxis": {
           "colorbar": {
            "outlinewidth": 0,
            "ticks": ""
           }
          },
          "colorscale": {
           "diverging": [
            [
             0,
             "#8e0152"
            ],
            [
             0.1,
             "#c51b7d"
            ],
            [
             0.2,
             "#de77ae"
            ],
            [
             0.3,
             "#f1b6da"
            ],
            [
             0.4,
             "#fde0ef"
            ],
            [
             0.5,
             "#f7f7f7"
            ],
            [
             0.6,
             "#e6f5d0"
            ],
            [
             0.7,
             "#b8e186"
            ],
            [
             0.8,
             "#7fbc41"
            ],
            [
             0.9,
             "#4d9221"
            ],
            [
             1,
             "#276419"
            ]
           ],
           "sequential": [
            [
             0,
             "#0d0887"
            ],
            [
             0.1111111111111111,
             "#46039f"
            ],
            [
             0.2222222222222222,
             "#7201a8"
            ],
            [
             0.3333333333333333,
             "#9c179e"
            ],
            [
             0.4444444444444444,
             "#bd3786"
            ],
            [
             0.5555555555555556,
             "#d8576b"
            ],
            [
             0.6666666666666666,
             "#ed7953"
            ],
            [
             0.7777777777777778,
             "#fb9f3a"
            ],
            [
             0.8888888888888888,
             "#fdca26"
            ],
            [
             1,
             "#f0f921"
            ]
           ],
           "sequentialminus": [
            [
             0,
             "#0d0887"
            ],
            [
             0.1111111111111111,
             "#46039f"
            ],
            [
             0.2222222222222222,
             "#7201a8"
            ],
            [
             0.3333333333333333,
             "#9c179e"
            ],
            [
             0.4444444444444444,
             "#bd3786"
            ],
            [
             0.5555555555555556,
             "#d8576b"
            ],
            [
             0.6666666666666666,
             "#ed7953"
            ],
            [
             0.7777777777777778,
             "#fb9f3a"
            ],
            [
             0.8888888888888888,
             "#fdca26"
            ],
            [
             1,
             "#f0f921"
            ]
           ]
          },
          "colorway": [
           "#636efa",
           "#EF553B",
           "#00cc96",
           "#ab63fa",
           "#FFA15A",
           "#19d3f3",
           "#FF6692",
           "#B6E880",
           "#FF97FF",
           "#FECB52"
          ],
          "font": {
           "color": "#2a3f5f"
          },
          "geo": {
           "bgcolor": "white",
           "lakecolor": "white",
           "landcolor": "#E5ECF6",
           "showlakes": true,
           "showland": true,
           "subunitcolor": "white"
          },
          "hoverlabel": {
           "align": "left"
          },
          "hovermode": "closest",
          "mapbox": {
           "style": "light"
          },
          "paper_bgcolor": "white",
          "plot_bgcolor": "#E5ECF6",
          "polar": {
           "angularaxis": {
            "gridcolor": "white",
            "linecolor": "white",
            "ticks": ""
           },
           "bgcolor": "#E5ECF6",
           "radialaxis": {
            "gridcolor": "white",
            "linecolor": "white",
            "ticks": ""
           }
          },
          "scene": {
           "xaxis": {
            "backgroundcolor": "#E5ECF6",
            "gridcolor": "white",
            "gridwidth": 2,
            "linecolor": "white",
            "showbackground": true,
            "ticks": "",
            "zerolinecolor": "white"
           },
           "yaxis": {
            "backgroundcolor": "#E5ECF6",
            "gridcolor": "white",
            "gridwidth": 2,
            "linecolor": "white",
            "showbackground": true,
            "ticks": "",
            "zerolinecolor": "white"
           },
           "zaxis": {
            "backgroundcolor": "#E5ECF6",
            "gridcolor": "white",
            "gridwidth": 2,
            "linecolor": "white",
            "showbackground": true,
            "ticks": "",
            "zerolinecolor": "white"
           }
          },
          "shapedefaults": {
           "line": {
            "color": "#2a3f5f"
           }
          },
          "ternary": {
           "aaxis": {
            "gridcolor": "white",
            "linecolor": "white",
            "ticks": ""
           },
           "baxis": {
            "gridcolor": "white",
            "linecolor": "white",
            "ticks": ""
           },
           "bgcolor": "#E5ECF6",
           "caxis": {
            "gridcolor": "white",
            "linecolor": "white",
            "ticks": ""
           }
          },
          "title": {
           "x": 0.05
          },
          "xaxis": {
           "automargin": true,
           "gridcolor": "white",
           "linecolor": "white",
           "ticks": "",
           "title": {
            "standoff": 15
           },
           "zerolinecolor": "white",
           "zerolinewidth": 2
          },
          "yaxis": {
           "automargin": true,
           "gridcolor": "white",
           "linecolor": "white",
           "ticks": "",
           "title": {
            "standoff": 15
           },
           "zerolinecolor": "white",
           "zerolinewidth": 2
          }
         }
        },
        "title": {
         "text": "Prepayment Analysis"
        },
        "width": 700,
        "xaxis": {
         "anchor": "y",
         "domain": [
          0,
          1
         ],
         "title": {
          "text": "Time"
         }
        },
        "yaxis": {
         "anchor": "x",
         "domain": [
          0,
          1
         ],
         "range": [
          0,
          1
         ],
         "title": {
          "text": "Probability of Survival"
         }
        }
       }
      }
     },
     "metadata": {},
     "output_type": "display_data"
    },
    {
     "data": {
      "text/html": [
       "<table border=\"1\" class=\"dataframe\">\n",
       "  <thead>\n",
       "    <tr style=\"text-align: right;\">\n",
       "      <th>1-year Survival Probability (95% CI)</th>\n",
       "      <th>1-year Prepayment Probability (95% CI)</th>\n",
       "      <th>Survival Time (Adjusted)</th>\n",
       "      <th>Survival Time (Probability)</th>\n",
       "      <th>Survival Time (Max)</th>\n",
       "    </tr>\n",
       "  </thead>\n",
       "  <tbody>\n",
       "    <tr>\n",
       "      <td>0.0</td>\n",
       "      <td>100.0</td>\n",
       "      <td>3.0</td>\n",
       "      <td>0.0</td>\n",
       "      <td>3.0</td>\n",
       "    </tr>\n",
       "  </tbody>\n",
       "</table>"
      ],
      "text/plain": [
       "<IPython.core.display.HTML object>"
      ]
     },
     "metadata": {},
     "output_type": "display_data"
    }
   ],
   "source": [
    "time_points, survival_probabilities, confidence_interval, median_survival_time = kaplan_meier_estimator_custom(df)\n",
    "\n",
    "survival_probabilities_diff = survival_probabilities - 0.5\n",
    "median_survival_time_adj = np.interp(min(survival_probabilities_diff), survival_probabilities_diff[::-1], time_points[::-1])\n",
    "\n",
    "if max(survival_probabilities) > 0.5:  \n",
    "    median_survival_time = median_survival_time\n",
    "else:\n",
    "    median_survival_time = median_survival_time_adj\n",
    "\n",
    "fig = make_subplots(rows=1, cols=1, subplot_titles=(\"\"))\n",
    "\n",
    "fig.add_trace(go.Scatter(\n",
    "    x=time_points,\n",
    "    y=survival_probabilities,\n",
    "    mode='lines',\n",
    "    line=dict(color='darkorange'),\n",
    "    name='Notional / Core Deposit'),\n",
    "              row=1, col=1\n",
    "             )\n",
    "\n",
    "y_min = round(min(survival_probabilities),2)\n",
    "\n",
    "fig.update_layout(\n",
    "            title=\"Prepayment Analysis\",\n",
    "            width=700,\n",
    "            height=500,\n",
    "            plot_bgcolor=\"#fff\",\n",
    "            showlegend=False,\n",
    "            yaxis=dict(range=[y_min,1])\n",
    ") \n",
    "        \n",
    "\n",
    "fig.add_vline(x=median_survival_time_adj, line_width=2, line_dash=\"dot\", line_color=\"royalblue\")\n",
    "\n",
    "fig.add_vline(x=365.25, line_width=2, line_dash=\"dot\", line_color=\"firebrick\")\n",
    "fig.add_hline(y=round((np.interp(365.25, time_points[::1], survival_probabilities[::1])),2), line_width=2, line_dash=\"dot\", line_color=\"firebrick\")\n",
    "\n",
    "\n",
    "fig.update_xaxes(title_text=\"Time\", row=1, col=1)\n",
    "fig.update_yaxes(title_text=\"Probability of Survival\", row=1, col=1)\n",
    "\n",
    "fig.show()\n",
    "\n",
    "table_a = {'1-year Survival Probability (95% CI)': [],\n",
    "           '1-year Prepayment Probability (95% CI)': [],\n",
    "           'Survival Time (Adjusted)': [],\n",
    "           'Survival Time (Probability)': [],\n",
    "           'Survival Time (Max)': []}\n",
    "\n",
    "table_a['1-year Survival Probability (95% CI)'].append(round((np.interp(365.25, time_points[::1], survival_probabilities[::1]))*100,2))\n",
    "table_a['1-year Prepayment Probability (95% CI)'].append(round((1-np.interp(365.25, time_points[::1], survival_probabilities[::1]))*100,2))\n",
    "table_a['Survival Time (Adjusted)'].append(round(median_survival_time_adj,0))\n",
    "table_a['Survival Time (Probability)'].append(round((np.interp(median_survival_time_adj, time_points[::1], survival_probabilities[::1]))*100,2))\n",
    "table_a['Survival Time (Max)'].append(round(median_survival_time,0))\n",
    "\n",
    "table_a = pd.DataFrame(table_a)\n",
    "display(HTML(table_a.to_html(index=False)))"
   ]
  }
 ],
 "metadata": {
  "kernelspec": {
   "display_name": ".venv",
   "language": "python",
   "name": "python3"
  },
  "language_info": {
   "codemirror_mode": {
    "name": "ipython",
    "version": 3
   },
   "file_extension": ".py",
   "mimetype": "text/x-python",
   "name": "python",
   "nbconvert_exporter": "python",
   "pygments_lexer": "ipython3",
   "version": "3.13.7"
  }
 },
 "nbformat": 4,
 "nbformat_minor": 5
}
