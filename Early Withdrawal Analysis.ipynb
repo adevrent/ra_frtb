{
 "cells": [
  {
   "cell_type": "markdown",
   "id": "d6707529-672f-4e38-8383-a8a6f0cabf28",
   "metadata": {},
   "source": [
    "### Early Withdrawal Analysis"
   ]
  },
  {
   "cell_type": "code",
   "execution_count": 1,
   "id": "bf2211ae-fd39-44fe-9e86-d80ab95a61a4",
   "metadata": {},
   "outputs": [],
   "source": [
    "import numpy as np\n",
    "import pandas as pd\n",
    "import pyreadr\n",
    "import warnings\n",
    "import lifelines\n",
    "import matplotlib.pyplot as plt\n",
    "\n",
    "from scipy import stats\n",
    "from datetime import timedelta\n",
    "from timeit import default_timer as timer\n",
    "from itertools import combinations, batched\n",
    "from pathlib import Path\n",
    "from tqdm import tqdm\n",
    "from rich.progress import track\n",
    "from sklearn.preprocessing import LabelEncoder\n",
    "from sklearn.linear_model import LinearRegression\n",
    "from sksurv.nonparametric import kaplan_meier_estimator\n",
    "from rich.progress import BarColumn, MofNCompleteColumn, Progress, TextColumn, TimeElapsedColumn, TimeRemainingColumn\n",
    "from lifelines import KaplanMeierFitter, WeibullAFTFitter, CoxPHFitter\n",
    "from lifelines import WeibullFitter, ExponentialFitter, LogNormalFitter, LogLogisticFitter, PiecewiseExponentialFitter, NelsonAalenFitter, SplineFitter\n",
    "from lifelines.utils import find_best_parametric_model, median_survival_times\n",
    "\n",
    "from IPython.display import display, HTML, Markdown\n",
    "import plotly.graph_objects as go\n",
    "from plotly.subplots import make_subplots\n",
    "\n",
    "warnings.simplefilter('ignore')"
   ]
  },
  {
   "cell_type": "markdown",
   "id": "ac279b7e-3813-4215-89ad-d328ebcba73a",
   "metadata": {},
   "source": [
    "#### Load Data"
   ]
  },
  {
   "cell_type": "code",
   "execution_count": 2,
   "id": "2103c420-a146-4cec-8966-73e89a9ce0cd",
   "metadata": {},
   "outputs": [],
   "source": [
    "wd = 'D:/AND.R.Analysis.Platform/AND.Risk.Management/Data.History/AND.SAS.Database.Daily/Raw.Data/'\n",
    "wd_SAVE = r\"C:\\Users\\adevr\\riskactive_main\\FRTB\\From_Sait\\Early Withdrawal Analysis\"\n",
    "wd_PRAM = r\"C:\\Users\\adevr\\riskactive_main\\FRTB\\From_Sait\""
   ]
  },
  {
   "cell_type": "code",
   "execution_count": null,
   "id": "8c0e7948-0173-4af2-a4e1-ea46ccf256f7",
   "metadata": {},
   "outputs": [
    {
     "data": {
      "application/vnd.jupyter.widget-view+json": {
       "model_id": "6a5a088994bd4c018a8807abc854394e",
       "version_major": 2,
       "version_minor": 0
      },
      "text/plain": [
       "Output()"
      ]
     },
     "metadata": {},
     "output_type": "display_data"
    },
    {
     "data": {
      "text/html": [
       "<pre style=\"white-space:pre;overflow-x:auto;line-height:normal;font-family:Menlo,'DejaVu Sans Mono',consolas,'Courier New',monospace\"></pre>\n"
      ],
      "text/plain": []
     },
     "metadata": {},
     "output_type": "display_data"
    }
   ],
   "source": [
    "progress_bar = Progress(TextColumn(\"[progress.percentage]{task.percentage:>3.0f}%\"),\n",
    "                        BarColumn(),\n",
    "                        MofNCompleteColumn(),\n",
    "                        TextColumn(\"•\"),\n",
    "                        TimeElapsedColumn(),\n",
    "                        TextColumn(\"•\"),\n",
    "                        TimeRemainingColumn())\n",
    "\n",
    "early_withdrawal_filepath = r\"EARLY_WITHDRAWAL_DATA.xlsx\"\n",
    "data = pd.DataFrame()\n",
    "\n",
    "with progress_bar as pb:\n",
    "    data = pd.read_excel(early_withdrawal_filepath)\n",
    "\n",
    "\n",
    "start_date = \"2022-09-01\"\n",
    "end_date = \"2022-09-16\"\n",
    "\n",
    "data.columns = data.columns.astype(str).str.replace(\".\", \"_\")\n",
    "data = data[~data[\"REPORT_DATE\"].isin(pd.to_datetime([start_date, end_date])) & data[\"EFFECTIVE_DATE\"].notna()]"
   ]
  },
  {
   "cell_type": "code",
   "execution_count": 4,
   "id": "2a5e4fa8-6212-4194-a35c-0df2eeb9b03d",
   "metadata": {},
   "outputs": [],
   "source": [
    "def next_business_day(date, holidays_df):\n",
    "    holidays = set(holidays_df.iloc[:,0])\n",
    "    next_day = date + timedelta(days=1)\n",
    "    while next_day.weekday() >= 5 or next_day in holidays:\n",
    "        next_day += timedelta(days=1)\n",
    "    return next_day\n",
    "    \n",
    "def classify_time_bucket(months):\n",
    "    if 0 <= months <= 1:\n",
    "        return \"0-1M\"\n",
    "    elif 1 < months <= 3:\n",
    "        return \"1-3M\"\n",
    "    elif 3 < months <= 6:\n",
    "        return \"3-6M\"\n",
    "    elif 6 < months <= 12:\n",
    "        return \"6-12M\"    \n",
    "    elif 12 < months <= 24:\n",
    "        return \"1-2Y\"\n",
    "    elif 24 < months <= 36:\n",
    "        return \"2-3Y\"\n",
    "    elif 36 < months <= 48:\n",
    "        return \"3-4Y\"\n",
    "    elif 48 < months <= 60:\n",
    "        return \"4-5Y\"\n",
    "    elif 60 < months <= 120:\n",
    "        return \"5-10Y\"\n",
    "    elif months > 120:\n",
    "        return \"+10Y\"\n",
    "    else:\n",
    "        return \"--\"\n",
    "\n",
    "def rolling_dates(data, year = 5):\n",
    "    rolling_dates = []\n",
    "    period = year*12\n",
    "    for i in range(len(data) - (period-1)):\n",
    "        START_DATE = data.loc[i, \"first\"]\n",
    "        END_DATE = data.loc[i + (period-1), \"last\"]\n",
    "        rolling_dates.append({\"START_DATE\": START_DATE, \"END_DATE\": END_DATE})\n",
    "    \n",
    "    rolling_dates = pd.DataFrame(rolling_dates)\n",
    "    \n",
    "    return rolling_dates\n",
    "    \n",
    "def separate_customer_id(customer_id):\n",
    "    try:\n",
    "        parts = customer_id.split(' // ')\n",
    "        return pd.Series(parts, index=['BRANCH', 'CUSTOMER_NO', 'PRODUCT_CODE', 'CURRENCY'])\n",
    "    except:\n",
    "        return pd.Series([None, None, None, None], index=['BRANCH', 'CUSTOMER_NO', 'PRODUCT_CODE', 'CURRENCY'])\n",
    "\n",
    "def move_string_to_end(s):\n",
    "    parts = s.split(',')\n",
    "    if \"Currency\" in parts:\n",
    "        parts.remove(\"Currency\")\n",
    "        parts.append(\"Currency\")\n",
    "    return \",\".join(parts)\n",
    "    \n",
    "def kaplan_meier_estimator_custom(df):\n",
    "\n",
    "    if df is None or df.empty:\n",
    "        raise ValueError(\"Input DataFrame is empty or None\")\n",
    "\n",
    "    kme = kaplan_meier_estimator(df[\"Status_TF\"], df[\"Survival_in_Days\"], conf_type=\"log-log\")\n",
    "    \n",
    "    time_points = kme[0]\n",
    "    survival_probabilities = kme[1]\n",
    "    confidence_interval = kme[2]\n",
    "    \n",
    "    median_survival_time = np.interp(0.5, survival_probabilities[::-1], time_points[::-1])\n",
    "    \n",
    "    survival_probabilities_diff = survival_probabilities - 0.5\n",
    "    median_survival_time_adj = np.interp(min(survival_probabilities_diff), survival_probabilities_diff[::-1], time_points[::-1])\n",
    "    \n",
    "    if min(survival_probabilities) > 0.5:  \n",
    "        median_survival_time = median_survival_time_adj\n",
    "        \n",
    "    return time_points, survival_probabilities, confidence_interval, median_survival_time\n",
    "    \n",
    "def data_model(data, data_year_basis = None, start_date = None, end_date = None, excel = False):\n",
    "    \n",
    "    data['REPORT_DATE'] = pd.to_datetime(data['REPORT_DATE'])\n",
    "\n",
    "    if data_year_basis is not None:\n",
    "        df_rolling_dates = rolling_dates(Monthly_Business_Days, year = data_year_basis)\n",
    "        start_date = df_rolling_dates['START_DATE'].iloc[-1]\n",
    "        end_date = df_rolling_dates['END_DATE'].iloc[-1]\n",
    "        data = data[(data['REPORT_DATE'] >= start_date) & (data['REPORT_DATE'] <= end_date)]\n",
    "        data.reset_index(drop=True, inplace=True)\n",
    "\n",
    "    if start_date is not None and  end_date is not None:\n",
    "        data = data[(data['REPORT_DATE'] >= start_date) & (data['REPORT_DATE'] <= end_date)]\n",
    "        data.reset_index(drop=True, inplace=True)\n",
    "    \n",
    "    currency_series = data[\"CURRENCY\"]\n",
    "    \n",
    "    data = (\n",
    "        data\n",
    "        .assign(\n",
    "            NO=lambda x: np.where(\n",
    "                x['REPORT_DATE'] == x['CUSTOMER_ID'].map(Max_Report_Date.set_index('CUSTOMER_ID')['MAX_RPT']), 1, 0\n",
    "            )\n",
    "        )\n",
    "        .query(\"NO == 1\")\n",
    "        .assign(LAST_REPORT_DATE=lambda x: x['REPORT_DATE'].max())\n",
    "        .assign(MAX_RPT_DATE=lambda x: x['CUSTOMER_ID'].map(Max_Report_Date.set_index('CUSTOMER_ID')['MAX_RPT']))\n",
    "        .groupby('CUSTOMER_ID')\n",
    "        .agg({\n",
    "            'REPORT_DATE': 'max',\n",
    "            'EFFECTIVE_DATE': 'max',\n",
    "            'MATURITY': 'max',\n",
    "            'NOTIONAL': 'max',\n",
    "            'LAST_REPORT_DATE': 'max'\n",
    "        })\n",
    "        .reset_index()\n",
    "        .assign(\n",
    "            MATURITY_CONT=lambda x: np.where(x['MATURITY'].dt.weekday >= 5, 1, 0),\n",
    "            MATURITY_NEW=lambda x: np.where(\n",
    "                x['MATURITY'].dt.weekday == 5, x['MATURITY'] + timedelta(days=2),\n",
    "                np.where(x['MATURITY'].dt.weekday == 6, x['MATURITY'] + timedelta(days=1), x['MATURITY'])\n",
    "            ),\n",
    "            NEXT_BUS_DATE=lambda x: x['REPORT_DATE'].apply(lambda x: next_business_day(x, Turkey_Holidays)),        \n",
    "            Maturity_Periods_D=lambda x: (x['MATURITY_NEW'] - x['EFFECTIVE_DATE']).dt.days,\n",
    "            Maturity_Periods_M=lambda x: (x['MATURITY_NEW'] - x['EFFECTIVE_DATE']).dt.days / (365.25 / 12),\n",
    "            SURV_TIME=lambda x: (x['NEXT_BUS_DATE'] - x['EFFECTIVE_DATE']).dt.days,\n",
    "            DIFF_TIME=lambda x: (x['MATURITY_NEW'] - x['NEXT_BUS_DATE']).dt.days,\n",
    "            #DIFF_MONTH=lambda x: (x['MATURITY_NEW'].apply(lambda date: date - (date - pd.offsets.MonthEnd(1)))).dt.days,\n",
    "            DIFF_MONTH=lambda x: (x['MATURITY_NEW'] - (x['MATURITY_NEW'] - pd.DateOffset(months=1))).dt.days,\n",
    "            TIME_BUCKET=lambda x: x['Maturity_Periods_M'].apply(classify_time_bucket)        \n",
    "        )\n",
    "        .assign(\n",
    "            Early_Withdrawal_Status=lambda x: np.where(\n",
    "                (x['NEXT_BUS_DATE'] < x['MATURITY_NEW']) & (x['DIFF_TIME'] > x['DIFF_MONTH']),\n",
    "                \"Early\", \"OnTime\"\n",
    "            )\n",
    "        )    \n",
    "    )\n",
    "\n",
    "    data[\"CURRENCY\"] = currency_series.loc[data.index].values\n",
    "\n",
    "    data = data[data['DIFF_TIME'] >= 0]    \n",
    "    data[['BRANCH', 'CUSTOMER_NO','CUSTOMER_EX_NO', 'PRODUCT_CODE']] = (data['CUSTOMER_ID'].str.split('//', expand=True))    \n",
    "    selected_columns = ['REPORT_DATE','CUSTOMER_ID','BRANCH', 'CUSTOMER_NO','CUSTOMER_EX_NO', 'PRODUCT_CODE', 'CURRENCY', 'EFFECTIVE_DATE', \n",
    "                        'MATURITY', 'NOTIONAL', 'LAST_REPORT_DATE', 'MATURITY_CONT', 'MATURITY_NEW', 'NEXT_BUS_DATE', 'Maturity_Periods_D', \n",
    "                        'Maturity_Periods_M','SURV_TIME', 'DIFF_TIME', 'DIFF_MONTH', 'TIME_BUCKET', 'Early_Withdrawal_Status']    \n",
    "    print(data)\n",
    "    data = data[selected_columns]\n",
    "    \n",
    "    data = data[['REPORT_DATE','BRANCH', 'CURRENCY' ,'PRODUCT_CODE','TIME_BUCKET','NOTIONAL','SURV_TIME','Early_Withdrawal_Status']].copy()\n",
    "    data.rename(columns={'REPORT_DATE': 'Report_Date','BRANCH': 'Branch', 'CURRENCY': 'Currency', 'PRODUCT_CODE': 'Product_Code',\n",
    "                         'TIME_BUCKET': 'Time_Bucket','NOTIONAL': 'Notional', 'SURV_TIME': 'Survival_in_Days', 'Early_Withdrawal_Status': 'Status'}, inplace=True)\n",
    "    data['Status_TF'] = data['Status']\n",
    "    data['Status'] = data['Status'].replace({'Early': 1, 'OnTime': 0})\n",
    "    data['Status_TF'] = data['Status_TF'].replace({'Early': True, 'OnTime': False})\n",
    "    data['Early_Withdrawal_Notional'] = data['Notional'] * (data['Status'] == 1)\n",
    "    \n",
    "    if excel:\n",
    "        data = pd.DataFrame(data)    \n",
    "        data.to_excel(wd_SAVE+'Report_Early_Withdrawal_df.xlsx', index=False)\n",
    "        \n",
    "    return data"
   ]
  },
  {
   "cell_type": "code",
   "execution_count": 5,
   "id": "6a46828a-ae1c-4c3a-b7fc-3cf18672eb14",
   "metadata": {},
   "outputs": [
    {
     "data": {
      "text/html": [
       "<div>\n",
       "<style scoped>\n",
       "    .dataframe tbody tr th:only-of-type {\n",
       "        vertical-align: middle;\n",
       "    }\n",
       "\n",
       "    .dataframe tbody tr th {\n",
       "        vertical-align: top;\n",
       "    }\n",
       "\n",
       "    .dataframe thead th {\n",
       "        text-align: right;\n",
       "    }\n",
       "</style>\n",
       "<table border=\"1\" class=\"dataframe\">\n",
       "  <thead>\n",
       "    <tr style=\"text-align: right;\">\n",
       "      <th></th>\n",
       "      <th>REPORT_DATE</th>\n",
       "      <th>BRANCH</th>\n",
       "      <th>CUSTOMER_NO</th>\n",
       "      <th>CUSTOMER_EX_NO</th>\n",
       "      <th>NOTIONAL</th>\n",
       "      <th>CURRENCY</th>\n",
       "      <th>INTEREST_RATE</th>\n",
       "      <th>GL_CODE_LONG</th>\n",
       "      <th>OPENING_DATE</th>\n",
       "      <th>EFFECTIVE_DATE</th>\n",
       "      <th>MATURITY</th>\n",
       "      <th>PRODUCT_CODE</th>\n",
       "      <th>CUSTOMER_ID</th>\n",
       "    </tr>\n",
       "  </thead>\n",
       "  <tbody>\n",
       "    <tr>\n",
       "      <th>0</th>\n",
       "      <td>2025-09-01</td>\n",
       "      <td>4444</td>\n",
       "      <td>123456</td>\n",
       "      <td>9001</td>\n",
       "      <td>1000000</td>\n",
       "      <td>USD</td>\n",
       "      <td>3.5</td>\n",
       "      <td>311001</td>\n",
       "      <td>2025-09-01</td>\n",
       "      <td>2025-09-01</td>\n",
       "      <td>2025-11-30</td>\n",
       "      <td>Vadeli.Mevduat.Tasarruf</td>\n",
       "      <td>4444//123456//9001//Vadeli.Mevduat.Tasarruf</td>\n",
       "    </tr>\n",
       "    <tr>\n",
       "      <th>1</th>\n",
       "      <td>2025-09-01</td>\n",
       "      <td>4444</td>\n",
       "      <td>123456</td>\n",
       "      <td>9001</td>\n",
       "      <td>1000000</td>\n",
       "      <td>TRY</td>\n",
       "      <td>47.0</td>\n",
       "      <td>310030</td>\n",
       "      <td>2025-09-08</td>\n",
       "      <td>2025-09-01</td>\n",
       "      <td>2025-11-30</td>\n",
       "      <td>Vadeli.Mevduat.Ticari</td>\n",
       "      <td>4444//123456//9001//Vadeli.Mevduat.Ticari</td>\n",
       "    </tr>\n",
       "    <tr>\n",
       "      <th>2</th>\n",
       "      <td>2025-09-02</td>\n",
       "      <td>4444</td>\n",
       "      <td>123456</td>\n",
       "      <td>9001</td>\n",
       "      <td>1000000</td>\n",
       "      <td>USD</td>\n",
       "      <td>3.5</td>\n",
       "      <td>311001</td>\n",
       "      <td>2025-09-08</td>\n",
       "      <td>2025-09-02</td>\n",
       "      <td>2025-12-01</td>\n",
       "      <td>Vadeli.Mevduat.Tasarruf</td>\n",
       "      <td>4444//123456//9001//Vadeli.Mevduat.Tasarruf</td>\n",
       "    </tr>\n",
       "    <tr>\n",
       "      <th>3</th>\n",
       "      <td>2025-09-02</td>\n",
       "      <td>4444</td>\n",
       "      <td>123456</td>\n",
       "      <td>9001</td>\n",
       "      <td>1000000</td>\n",
       "      <td>TRY</td>\n",
       "      <td>47.0</td>\n",
       "      <td>310030</td>\n",
       "      <td>2025-09-08</td>\n",
       "      <td>2025-09-02</td>\n",
       "      <td>2025-12-01</td>\n",
       "      <td>Vadeli.Mevduat.Ticari</td>\n",
       "      <td>4444//123456//9001//Vadeli.Mevduat.Ticari</td>\n",
       "    </tr>\n",
       "    <tr>\n",
       "      <th>4</th>\n",
       "      <td>2025-09-03</td>\n",
       "      <td>4444</td>\n",
       "      <td>123456</td>\n",
       "      <td>9001</td>\n",
       "      <td>1000000</td>\n",
       "      <td>USD</td>\n",
       "      <td>3.5</td>\n",
       "      <td>311001</td>\n",
       "      <td>2025-09-03</td>\n",
       "      <td>2025-09-03</td>\n",
       "      <td>2025-12-02</td>\n",
       "      <td>Vadeli.Mevduat.Tasarruf</td>\n",
       "      <td>4444//123456//9001//Vadeli.Mevduat.Tasarruf</td>\n",
       "    </tr>\n",
       "  </tbody>\n",
       "</table>\n",
       "</div>"
      ],
      "text/plain": [
       "  REPORT_DATE  BRANCH  CUSTOMER_NO  CUSTOMER_EX_NO  NOTIONAL CURRENCY  \\\n",
       "0  2025-09-01    4444       123456            9001   1000000      USD   \n",
       "1  2025-09-01    4444       123456            9001   1000000      TRY   \n",
       "2  2025-09-02    4444       123456            9001   1000000      USD   \n",
       "3  2025-09-02    4444       123456            9001   1000000      TRY   \n",
       "4  2025-09-03    4444       123456            9001   1000000      USD   \n",
       "\n",
       "   INTEREST_RATE  GL_CODE_LONG OPENING_DATE EFFECTIVE_DATE   MATURITY  \\\n",
       "0            3.5        311001   2025-09-01     2025-09-01 2025-11-30   \n",
       "1           47.0        310030   2025-09-08     2025-09-01 2025-11-30   \n",
       "2            3.5        311001   2025-09-08     2025-09-02 2025-12-01   \n",
       "3           47.0        310030   2025-09-08     2025-09-02 2025-12-01   \n",
       "4            3.5        311001   2025-09-03     2025-09-03 2025-12-02   \n",
       "\n",
       "              PRODUCT_CODE                                  CUSTOMER_ID  \n",
       "0  Vadeli.Mevduat.Tasarruf  4444//123456//9001//Vadeli.Mevduat.Tasarruf  \n",
       "1    Vadeli.Mevduat.Ticari    4444//123456//9001//Vadeli.Mevduat.Ticari  \n",
       "2  Vadeli.Mevduat.Tasarruf  4444//123456//9001//Vadeli.Mevduat.Tasarruf  \n",
       "3    Vadeli.Mevduat.Ticari    4444//123456//9001//Vadeli.Mevduat.Ticari  \n",
       "4  Vadeli.Mevduat.Tasarruf  4444//123456//9001//Vadeli.Mevduat.Tasarruf  "
      ]
     },
     "execution_count": 5,
     "metadata": {},
     "output_type": "execute_result"
    }
   ],
   "source": [
    "data.head()"
   ]
  },
  {
   "cell_type": "markdown",
   "id": "d333f3cb-75ec-439c-bba9-9be46d3f9985",
   "metadata": {},
   "source": [
    "#### --------- Model Data ---------"
   ]
  },
  {
   "cell_type": "code",
   "execution_count": 6,
   "id": "7acfc420-12dc-4587-9ac7-705f88e3302b",
   "metadata": {},
   "outputs": [],
   "source": [
    "Max_Report_Date = (\n",
    "    data.groupby('CUSTOMER_ID')['REPORT_DATE']\n",
    "    .agg(MAX_RPT='max', \n",
    "         N_RPT='size')\n",
    "    .reset_index()\n",
    ")\n",
    "\n",
    "Max_Report_Date['CUSTOMER_IDs'] = Max_Report_Date.loc[:, 'CUSTOMER_ID']\n",
    "Max_Report_Date.set_index('CUSTOMER_IDs', inplace=True)\n",
    "Max_Report_Date.index.names = ['CUSTOMER_ID']"
   ]
  },
  {
   "cell_type": "code",
   "execution_count": 7,
   "id": "2e3ace2b-246b-4cf1-adb6-dedfb0a88a9f",
   "metadata": {},
   "outputs": [
    {
     "data": {
      "text/html": [
       "<div>\n",
       "<style scoped>\n",
       "    .dataframe tbody tr th:only-of-type {\n",
       "        vertical-align: middle;\n",
       "    }\n",
       "\n",
       "    .dataframe tbody tr th {\n",
       "        vertical-align: top;\n",
       "    }\n",
       "\n",
       "    .dataframe thead th {\n",
       "        text-align: right;\n",
       "    }\n",
       "</style>\n",
       "<table border=\"1\" class=\"dataframe\">\n",
       "  <thead>\n",
       "    <tr style=\"text-align: right;\">\n",
       "      <th></th>\n",
       "      <th>START_DATE</th>\n",
       "      <th>END_DATE</th>\n",
       "    </tr>\n",
       "  </thead>\n",
       "  <tbody>\n",
       "    <tr>\n",
       "      <th>5</th>\n",
       "      <td>2017-06-01</td>\n",
       "      <td>2025-05-30</td>\n",
       "    </tr>\n",
       "    <tr>\n",
       "      <th>6</th>\n",
       "      <td>2017-07-03</td>\n",
       "      <td>2025-06-30</td>\n",
       "    </tr>\n",
       "    <tr>\n",
       "      <th>7</th>\n",
       "      <td>2017-08-01</td>\n",
       "      <td>2025-07-31</td>\n",
       "    </tr>\n",
       "    <tr>\n",
       "      <th>8</th>\n",
       "      <td>2017-09-05</td>\n",
       "      <td>2025-08-29</td>\n",
       "    </tr>\n",
       "    <tr>\n",
       "      <th>9</th>\n",
       "      <td>2017-10-02</td>\n",
       "      <td>2025-09-30</td>\n",
       "    </tr>\n",
       "  </tbody>\n",
       "</table>\n",
       "</div>"
      ],
      "text/plain": [
       "  START_DATE   END_DATE\n",
       "5 2017-06-01 2025-05-30\n",
       "6 2017-07-03 2025-06-30\n",
       "7 2017-08-01 2025-07-31\n",
       "8 2017-09-05 2025-08-29\n",
       "9 2017-10-02 2025-09-30"
      ]
     },
     "execution_count": 7,
     "metadata": {},
     "output_type": "execute_result"
    }
   ],
   "source": [
    "Turkey_Holidays = pd.read_excel(f\"{wd_PRAM}/Turkey_Holidays.xlsx\")\n",
    "\n",
    "Business_Days = pd.date_range(start=\"2017-01-01\", end=\"2025-12-31\", freq='B')\n",
    "Turkey_Business_Days = Business_Days[~Business_Days.isin(Turkey_Holidays['TURKEY_HOLIDAYS'])]\n",
    "#Turkey_Holidays.to_excel(wd_SAVE+'Turkey_Holidays.xlsx', index=False)\n",
    "\n",
    "Monthly_Business_Days = (\n",
    "    pd.DataFrame({\"Business_Days\": Turkey_Business_Days})\n",
    "    .assign(YearMonth=lambda df: df[\"Business_Days\"].dt.to_period(\"M\"))\n",
    "    .groupby(\"YearMonth\")[\"Business_Days\"]\n",
    "    .agg([\"first\", \"last\"])\n",
    "    .reset_index()\n",
    ")\n",
    "\n",
    "last_date_of_report = max(Max_Report_Date['MAX_RPT'])\n",
    "\n",
    "last_date_of_month = last_date_of_report.replace(month=last_date_of_report.month+1, day=1) - timedelta(days=1)\n",
    "\n",
    "Monthly_Business_Days = Monthly_Business_Days[(Monthly_Business_Days['last'] <= last_date_of_month)]\n",
    "\n",
    "Rolling_Dates = rolling_dates(Monthly_Business_Days, year = 8)\n",
    "\n",
    "Rolling_Dates.tail()"
   ]
  },
  {
   "cell_type": "code",
   "execution_count": 8,
   "id": "4e55bbc5-b015-4d71-bedf-3f9bf43522d5",
   "metadata": {},
   "outputs": [
    {
     "name": "stdout",
     "output_type": "stream",
     "text": [
      "                                   CUSTOMER_ID REPORT_DATE EFFECTIVE_DATE  \\\n",
      "0  4444//123456//9001//Vadeli.Mevduat.Tasarruf  2025-09-16     2025-09-16   \n",
      "1    4444//123456//9001//Vadeli.Mevduat.Ticari  2025-09-16     2025-09-16   \n",
      "\n",
      "    MATURITY  NOTIONAL LAST_REPORT_DATE  MATURITY_CONT MATURITY_NEW  \\\n",
      "0 2026-09-11   1000000       2025-09-16              0   2026-09-11   \n",
      "1 2026-09-11   1000000       2025-09-16              0   2026-09-11   \n",
      "\n",
      "  NEXT_BUS_DATE  Maturity_Periods_D  ...  SURV_TIME  DIFF_TIME  DIFF_MONTH  \\\n",
      "0    2025-09-17                 360  ...          1        359          31   \n",
      "1    2025-09-17                 360  ...          1        359          31   \n",
      "\n",
      "   TIME_BUCKET Early_Withdrawal_Status CURRENCY BRANCH CUSTOMER_NO  \\\n",
      "0        6-12M                   Early      USD   4444      123456   \n",
      "1        6-12M                   Early      TRY   4444      123456   \n",
      "\n",
      "  CUSTOMER_EX_NO             PRODUCT_CODE  \n",
      "0           9001  Vadeli.Mevduat.Tasarruf  \n",
      "1           9001    Vadeli.Mevduat.Ticari  \n",
      "\n",
      "[2 rows x 21 columns]\n"
     ]
    },
    {
     "data": {
      "text/html": [
       "<div>\n",
       "<style scoped>\n",
       "    .dataframe tbody tr th:only-of-type {\n",
       "        vertical-align: middle;\n",
       "    }\n",
       "\n",
       "    .dataframe tbody tr th {\n",
       "        vertical-align: top;\n",
       "    }\n",
       "\n",
       "    .dataframe thead th {\n",
       "        text-align: right;\n",
       "    }\n",
       "</style>\n",
       "<table border=\"1\" class=\"dataframe\">\n",
       "  <thead>\n",
       "    <tr style=\"text-align: right;\">\n",
       "      <th></th>\n",
       "      <th>Report_Date</th>\n",
       "      <th>Branch</th>\n",
       "      <th>Currency</th>\n",
       "      <th>Product_Code</th>\n",
       "      <th>Time_Bucket</th>\n",
       "      <th>Notional</th>\n",
       "      <th>Survival_in_Days</th>\n",
       "      <th>Status</th>\n",
       "      <th>Status_TF</th>\n",
       "      <th>Early_Withdrawal_Notional</th>\n",
       "    </tr>\n",
       "  </thead>\n",
       "  <tbody>\n",
       "    <tr>\n",
       "      <th>0</th>\n",
       "      <td>2025-09-16</td>\n",
       "      <td>4444</td>\n",
       "      <td>USD</td>\n",
       "      <td>Vadeli.Mevduat.Tasarruf</td>\n",
       "      <td>6-12M</td>\n",
       "      <td>1000000</td>\n",
       "      <td>1</td>\n",
       "      <td>1</td>\n",
       "      <td>True</td>\n",
       "      <td>1000000</td>\n",
       "    </tr>\n",
       "    <tr>\n",
       "      <th>1</th>\n",
       "      <td>2025-09-16</td>\n",
       "      <td>4444</td>\n",
       "      <td>TRY</td>\n",
       "      <td>Vadeli.Mevduat.Ticari</td>\n",
       "      <td>6-12M</td>\n",
       "      <td>1000000</td>\n",
       "      <td>1</td>\n",
       "      <td>1</td>\n",
       "      <td>True</td>\n",
       "      <td>1000000</td>\n",
       "    </tr>\n",
       "  </tbody>\n",
       "</table>\n",
       "</div>"
      ],
      "text/plain": [
       "  Report_Date Branch Currency             Product_Code Time_Bucket  Notional  \\\n",
       "0  2025-09-16   4444      USD  Vadeli.Mevduat.Tasarruf       6-12M   1000000   \n",
       "1  2025-09-16   4444      TRY    Vadeli.Mevduat.Ticari       6-12M   1000000   \n",
       "\n",
       "   Survival_in_Days  Status  Status_TF  Early_Withdrawal_Notional  \n",
       "0                 1       1       True                    1000000  \n",
       "1                 1       1       True                    1000000  "
      ]
     },
     "execution_count": 8,
     "metadata": {},
     "output_type": "execute_result"
    }
   ],
   "source": [
    "Report_Early_Withdrawal = data_model(data, \n",
    "                                         data_year_basis = 8, \n",
    "                                         start_date = None,                         \n",
    "                                         end_date = None,                           \n",
    "                                         excel = False)   \n",
    "\n",
    "Report_Early_Withdrawal.head()"
   ]
  },
  {
   "cell_type": "markdown",
   "id": "ae7cef94-080a-4609-9e97-a2075b90fa37",
   "metadata": {},
   "source": [
    "##### --------- Data Control ---------"
   ]
  },
  {
   "cell_type": "code",
   "execution_count": 9,
   "id": "1cf7e86c-ea4f-4213-902c-9145742ca65a",
   "metadata": {},
   "outputs": [
    {
     "data": {
      "text/html": [
       "<div>\n",
       "<style scoped>\n",
       "    .dataframe tbody tr th:only-of-type {\n",
       "        vertical-align: middle;\n",
       "    }\n",
       "\n",
       "    .dataframe tbody tr th {\n",
       "        vertical-align: top;\n",
       "    }\n",
       "\n",
       "    .dataframe thead th {\n",
       "        text-align: right;\n",
       "    }\n",
       "</style>\n",
       "<table border=\"1\" class=\"dataframe\">\n",
       "  <thead>\n",
       "    <tr style=\"text-align: right;\">\n",
       "      <th></th>\n",
       "      <th>Report_Date</th>\n",
       "      <th>Branch</th>\n",
       "      <th>Currency</th>\n",
       "      <th>Product_Code</th>\n",
       "      <th>Time_Bucket</th>\n",
       "      <th>Notional</th>\n",
       "      <th>Survival_in_Days</th>\n",
       "      <th>Status</th>\n",
       "      <th>Status_TF</th>\n",
       "      <th>Early_Withdrawal_Notional</th>\n",
       "    </tr>\n",
       "  </thead>\n",
       "  <tbody>\n",
       "  </tbody>\n",
       "</table>\n",
       "</div>"
      ],
      "text/plain": [
       "Empty DataFrame\n",
       "Columns: [Report_Date, Branch, Currency, Product_Code, Time_Bucket, Notional, Survival_in_Days, Status, Status_TF, Early_Withdrawal_Notional]\n",
       "Index: []"
      ]
     },
     "execution_count": 9,
     "metadata": {},
     "output_type": "execute_result"
    }
   ],
   "source": [
    "Report_Early_Withdrawal[Report_Early_Withdrawal.isnull().any(axis=1)].sort_values(by='Report_Date')"
   ]
  },
  {
   "cell_type": "code",
   "execution_count": 10,
   "id": "0af3505d-577e-4ce4-b9f3-74c7289d03bb",
   "metadata": {},
   "outputs": [
    {
     "data": {
      "text/plain": [
       "Report_Date                  0\n",
       "Branch                       0\n",
       "Currency                     0\n",
       "Product_Code                 0\n",
       "Time_Bucket                  0\n",
       "Notional                     0\n",
       "Survival_in_Days             0\n",
       "Status                       0\n",
       "Status_TF                    0\n",
       "Early_Withdrawal_Notional    0\n",
       "dtype: int64"
      ]
     },
     "execution_count": 10,
     "metadata": {},
     "output_type": "execute_result"
    }
   ],
   "source": [
    "Report_Early_Withdrawal.isnull().sum()"
   ]
  },
  {
   "cell_type": "markdown",
   "id": "a2c5e48d-21d3-4148-af3d-da51c9ea5e47",
   "metadata": {},
   "source": [
    "##### --------- Early_Withdrawal_Analysis ---------"
   ]
  },
  {
   "cell_type": "code",
   "execution_count": 11,
   "id": "f09a159e-b619-44fe-bbeb-342e4153b11c",
   "metadata": {},
   "outputs": [
    {
     "data": {
      "text/html": [
       "<div>\n",
       "<style scoped>\n",
       "    .dataframe tbody tr th:only-of-type {\n",
       "        vertical-align: middle;\n",
       "    }\n",
       "\n",
       "    .dataframe tbody tr th {\n",
       "        vertical-align: top;\n",
       "    }\n",
       "\n",
       "    .dataframe thead th {\n",
       "        text-align: right;\n",
       "    }\n",
       "</style>\n",
       "<table border=\"1\" class=\"dataframe\">\n",
       "  <thead>\n",
       "    <tr style=\"text-align: right;\">\n",
       "      <th></th>\n",
       "      <th>Report_Date</th>\n",
       "      <th>Branch</th>\n",
       "      <th>Currency</th>\n",
       "      <th>Product_Code</th>\n",
       "      <th>Time_Bucket</th>\n",
       "      <th>Notional</th>\n",
       "      <th>Early_Withdrawal_Notional</th>\n",
       "      <th>N_Count</th>\n",
       "      <th>Early_Withdrawal_Cust_Ratio</th>\n",
       "      <th>Early_Withdrawal_Not_Ratio</th>\n",
       "    </tr>\n",
       "  </thead>\n",
       "  <tbody>\n",
       "    <tr>\n",
       "      <th>0</th>\n",
       "      <td>2025-09-16</td>\n",
       "      <td>4444</td>\n",
       "      <td>TRY</td>\n",
       "      <td>Vadeli.Mevduat.Ticari</td>\n",
       "      <td>6-12M</td>\n",
       "      <td>1000000</td>\n",
       "      <td>1000000</td>\n",
       "      <td>1</td>\n",
       "      <td>100.0</td>\n",
       "      <td>100.0</td>\n",
       "    </tr>\n",
       "    <tr>\n",
       "      <th>1</th>\n",
       "      <td>2025-09-16</td>\n",
       "      <td>4444</td>\n",
       "      <td>USD</td>\n",
       "      <td>Vadeli.Mevduat.Tasarruf</td>\n",
       "      <td>6-12M</td>\n",
       "      <td>1000000</td>\n",
       "      <td>1000000</td>\n",
       "      <td>1</td>\n",
       "      <td>100.0</td>\n",
       "      <td>100.0</td>\n",
       "    </tr>\n",
       "  </tbody>\n",
       "</table>\n",
       "</div>"
      ],
      "text/plain": [
       "  Report_Date Branch Currency             Product_Code Time_Bucket  Notional  \\\n",
       "0  2025-09-16   4444      TRY    Vadeli.Mevduat.Ticari       6-12M   1000000   \n",
       "1  2025-09-16   4444      USD  Vadeli.Mevduat.Tasarruf       6-12M   1000000   \n",
       "\n",
       "   Early_Withdrawal_Notional  N_Count  Early_Withdrawal_Cust_Ratio  \\\n",
       "0                    1000000        1                        100.0   \n",
       "1                    1000000        1                        100.0   \n",
       "\n",
       "   Early_Withdrawal_Not_Ratio  \n",
       "0                       100.0  \n",
       "1                       100.0  "
      ]
     },
     "execution_count": 11,
     "metadata": {},
     "output_type": "execute_result"
    }
   ],
   "source": [
    "Early_Withdrawal_Analysis = (\n",
    "    Report_Early_Withdrawal.groupby(['Report_Date','Branch','Currency','Product_Code','Time_Bucket'], as_index=False)\n",
    "    .agg(Notional=(\"Notional\", lambda x: round(x.sum(), 0)),\n",
    "         Early_Withdrawal_Notional=(\"Notional\", lambda x: round(x[(Report_Early_Withdrawal.loc[x.index, 'Status'] == 1)].sum(), 0)),\n",
    "         N_Count=(\"Product_Code\", \"size\"),\n",
    "         Early_Withdrawal_Cust_Ratio=('Status', lambda x: round((x == 1).sum() / len(x) * 100, 2))         \n",
    "        )\n",
    "    .assign(Early_Withdrawal_Not_Ratio=lambda x: round(x[\"Early_Withdrawal_Notional\"] / x[\"Notional\"] * 100, 2)\n",
    "           )\n",
    ")\n",
    "\n",
    "#Early_Withdrawal_Analysis.to_excel(wd_SAVE+'Early_Withdrawal_Analysis.xlsx', index=False) \n",
    "Early_Withdrawal_Analysis.head()"
   ]
  },
  {
   "cell_type": "markdown",
   "id": "119fc57a-4e0d-4d49-813d-b81d00b97ee6",
   "metadata": {},
   "source": [
    "##### --------- Early_Withdrawal_Notional_Ratio ---------"
   ]
  },
  {
   "cell_type": "code",
   "execution_count": 12,
   "id": "b17338fd-aa82-46db-b803-45d0235fcbb4",
   "metadata": {},
   "outputs": [
    {
     "data": {
      "text/html": [
       "<div>\n",
       "<style scoped>\n",
       "    .dataframe tbody tr th:only-of-type {\n",
       "        vertical-align: middle;\n",
       "    }\n",
       "\n",
       "    .dataframe tbody tr th {\n",
       "        vertical-align: top;\n",
       "    }\n",
       "\n",
       "    .dataframe thead th {\n",
       "        text-align: right;\n",
       "    }\n",
       "</style>\n",
       "<table border=\"1\" class=\"dataframe\">\n",
       "  <thead>\n",
       "    <tr style=\"text-align: right;\">\n",
       "      <th></th>\n",
       "      <th>Branch</th>\n",
       "      <th>Currency</th>\n",
       "      <th>Product_Code</th>\n",
       "      <th>Time_Bucket</th>\n",
       "      <th>Early_Withdrawal_Not_Ratio</th>\n",
       "    </tr>\n",
       "  </thead>\n",
       "  <tbody>\n",
       "    <tr>\n",
       "      <th>0</th>\n",
       "      <td>4444</td>\n",
       "      <td>TRY</td>\n",
       "      <td>Vadeli.Mevduat.Ticari</td>\n",
       "      <td>6-12M</td>\n",
       "      <td>1.0</td>\n",
       "    </tr>\n",
       "    <tr>\n",
       "      <th>1</th>\n",
       "      <td>4444</td>\n",
       "      <td>USD</td>\n",
       "      <td>Vadeli.Mevduat.Tasarruf</td>\n",
       "      <td>6-12M</td>\n",
       "      <td>1.0</td>\n",
       "    </tr>\n",
       "  </tbody>\n",
       "</table>\n",
       "</div>"
      ],
      "text/plain": [
       "  Branch Currency             Product_Code Time_Bucket  \\\n",
       "0   4444      TRY    Vadeli.Mevduat.Ticari       6-12M   \n",
       "1   4444      USD  Vadeli.Mevduat.Tasarruf       6-12M   \n",
       "\n",
       "   Early_Withdrawal_Not_Ratio  \n",
       "0                         1.0  \n",
       "1                         1.0  "
      ]
     },
     "execution_count": 12,
     "metadata": {},
     "output_type": "execute_result"
    }
   ],
   "source": [
    "Early_Withdrawal_Notional_Ratio = ( \n",
    "    Report_Early_Withdrawal.groupby(['Branch','Currency','Product_Code','Time_Bucket'])[\"Early_Withdrawal_Notional\"].sum()\n",
    "    .div(Report_Early_Withdrawal.groupby(['Branch','Currency','Product_Code','Time_Bucket'])['Notional'].sum())\n",
    "    .reset_index(name=\"Early_Withdrawal_Not_Ratio\")\n",
    "    .round(4)\n",
    ")\n",
    "\n",
    "#Early_Withdrawal_Notional_Ratio.to_excel(wd_SAVE+'Early_Withdrawal_Notional_Ratio.xlsx', index=False) \n",
    "Early_Withdrawal_Notional_Ratio.head()"
   ]
  },
  {
   "cell_type": "markdown",
   "id": "d6a80489-1ae8-4a16-b918-089010b76545",
   "metadata": {},
   "source": [
    "#### Model Data / Early Withdrawal Analysis"
   ]
  },
  {
   "cell_type": "markdown",
   "id": "a1768948-1ee1-4ec8-8760-a2ea88c09eab",
   "metadata": {},
   "source": [
    "##### Analysis Data - Df"
   ]
  },
  {
   "cell_type": "code",
   "execution_count": 13,
   "id": "c4f0f55f-e37f-4c4d-9935-06879e7e452d",
   "metadata": {},
   "outputs": [],
   "source": [
    "def df_early_withdrawal(data, \n",
    "                        branch = None, \n",
    "                        product = None, \n",
    "                        time_bucket = None,\n",
    "                        currency = None):\n",
    "    \n",
    "    # Branch,Product_Code,Time_Bucket,Currency\n",
    "    if branch is not None and product is not None and time_bucket is not None and currency is not None:\n",
    "        data = data.loc[(data['Branch'] == branch) & (data['Product_Code'] == product) & (data['Time_Bucket'] == time_bucket) & (data['Currency'] == currency)]\n",
    "        data.reset_index(drop=True, inplace=True)        \n",
    "    # Product_Code,Time_Bucket,Currency\t\n",
    "    if branch is None and product is not None and time_bucket is not None and currency is not None:\n",
    "        data = data.loc[(data['Product_Code'] == product) & (data['Time_Bucket'] == time_bucket) & (data['Currency'] == currency)]\n",
    "        data.reset_index(drop=True, inplace=True)\n",
    "    # Branch,Time_Bucket,Currency\n",
    "    if branch is not None and product is None and time_bucket is not None and currency is not None:\n",
    "        data = data.loc[(data['Branch'] == branch) & (data['Time_Bucket'] == time_bucket) & (data['Currency'] == currency)]\n",
    "        data.reset_index(drop=True, inplace=True)\n",
    "    # Branch,Product_Code,Currency\n",
    "    if branch is not None and product is not None and time_bucket is None and currency is not None:\n",
    "        data = data.loc[(data['Branch'] == branch) & (data['Product_Code'] == product) & (data['Currency'] == currency)]\n",
    "        data.reset_index(drop=True, inplace=True)\n",
    "    # Time_Bucket,Currency\t\n",
    "    if branch is None and product is None and time_bucket is not None and currency is not None:\n",
    "        data = data.loc[(data['Time_Bucket'] == time_bucket) & (data['Currency'] == currency)]\n",
    "        data.reset_index(drop=True, inplace=True)\n",
    "    # Product_Code,Currency\n",
    "    if branch is None and product is not None and time_bucket is None and currency is not None:\n",
    "        data = data.loc[(data['Product_Code'] == product) & (data['Currency'] == currency)]\n",
    "        data.reset_index(drop=True, inplace=True)            \n",
    "    # Branch,Currency\n",
    "    if branch is not None and product is None and time_bucket is None and currency is not None:\n",
    "        data = data.loc[(data['Branch'] == branch) & (data['Currency'] == currency)]\n",
    "        data.reset_index(drop=True, inplace=True)\n",
    "    # Currency\n",
    "    if branch is None and product is None and time_bucket is None and currency is not None:\n",
    "        data = data.loc[(data['Currency'] == currency)]\n",
    "        data.reset_index(drop=True, inplace=True)\n",
    "    return data"
   ]
  },
  {
   "cell_type": "code",
   "execution_count": 14,
   "id": "39e5cbe9-7964-42ec-9b96-4e38d8794ce2",
   "metadata": {},
   "outputs": [
    {
     "data": {
      "text/html": [
       "<div>\n",
       "<style scoped>\n",
       "    .dataframe tbody tr th:only-of-type {\n",
       "        vertical-align: middle;\n",
       "    }\n",
       "\n",
       "    .dataframe tbody tr th {\n",
       "        vertical-align: top;\n",
       "    }\n",
       "\n",
       "    .dataframe thead th {\n",
       "        text-align: right;\n",
       "    }\n",
       "</style>\n",
       "<table border=\"1\" class=\"dataframe\">\n",
       "  <thead>\n",
       "    <tr style=\"text-align: right;\">\n",
       "      <th></th>\n",
       "      <th>Report_Date</th>\n",
       "      <th>Branch</th>\n",
       "      <th>Currency</th>\n",
       "      <th>Product_Code</th>\n",
       "      <th>Time_Bucket</th>\n",
       "      <th>Notional</th>\n",
       "      <th>Survival_in_Days</th>\n",
       "      <th>Status</th>\n",
       "      <th>Status_TF</th>\n",
       "      <th>Early_Withdrawal_Notional</th>\n",
       "    </tr>\n",
       "  </thead>\n",
       "  <tbody>\n",
       "    <tr>\n",
       "      <th>0</th>\n",
       "      <td>2025-09-16</td>\n",
       "      <td>4444</td>\n",
       "      <td>TRY</td>\n",
       "      <td>Vadeli.Mevduat.Ticari</td>\n",
       "      <td>6-12M</td>\n",
       "      <td>1000000</td>\n",
       "      <td>1</td>\n",
       "      <td>1</td>\n",
       "      <td>True</td>\n",
       "      <td>1000000</td>\n",
       "    </tr>\n",
       "  </tbody>\n",
       "</table>\n",
       "</div>"
      ],
      "text/plain": [
       "  Report_Date Branch Currency           Product_Code Time_Bucket  Notional  \\\n",
       "0  2025-09-16   4444      TRY  Vadeli.Mevduat.Ticari       6-12M   1000000   \n",
       "\n",
       "   Survival_in_Days  Status  Status_TF  Early_Withdrawal_Notional  \n",
       "0                 1       1       True                    1000000  "
      ]
     },
     "execution_count": 14,
     "metadata": {},
     "output_type": "execute_result"
    }
   ],
   "source": [
    "# ['Vadeli.Mevduat.Tasarruf', 'Vadeli.Mevduat.Ticari']\n",
    "# ['TRY', 'USD', 'XAU', 'EUR', 'XAG', 'CHF', 'GBP', 'AUD']\n",
    "# ['0-1M', '1-3M', '3-6M', '1-2Y', '6-12M', '4-5Y', '2-3Y', '5-10Y','3-4Y', '+10Y']\n",
    "\n",
    "df = df_early_withdrawal(Report_Early_Withdrawal, \n",
    "                         branch = None, \n",
    "                         product = 'Vadeli.Mevduat.Ticari', # user input\n",
    "                         time_bucket = None, \n",
    "                         currency = 'TRY') # user input\n",
    "df.head()"
   ]
  },
  {
   "cell_type": "markdown",
   "id": "58792cd6-283f-4752-8cc2-59f941592691",
   "metadata": {},
   "source": [
    "#### Survival Analysis : scikit-survival - Kaplan-Meier Model"
   ]
  },
  {
   "cell_type": "code",
   "execution_count": null,
   "id": "d1a30cca-b8e3-4462-ba25-6b44fabe98c7",
   "metadata": {},
   "outputs": [
    {
     "data": {
      "application/vnd.plotly.v1+json": {
       "config": {
        "plotlyServerURL": "https://plot.ly"
       },
       "data": [
        {
         "line": {
          "color": "darkorange"
         },
         "mode": "lines",
         "name": "Notional / Core Deposit",
         "type": "scatter",
         "x": {
          "bdata": "AQ==",
          "dtype": "i1"
         },
         "xaxis": "x",
         "y": {
          "bdata": "AAAAAAAAAAA=",
          "dtype": "f8"
         },
         "yaxis": "y"
        }
       ],
       "layout": {
        "height": 500,
        "plot_bgcolor": "#fff",
        "shapes": [
         {
          "line": {
           "color": "royalblue",
           "dash": "dot",
           "width": 2
          },
          "type": "line",
          "x0": 1,
          "x1": 1,
          "xref": "x",
          "y0": 0,
          "y1": 1,
          "yref": "y domain"
         }
        ],
        "showlegend": false,
        "template": {
         "data": {
          "bar": [
           {
            "error_x": {
             "color": "#2a3f5f"
            },
            "error_y": {
             "color": "#2a3f5f"
            },
            "marker": {
             "line": {
              "color": "#E5ECF6",
              "width": 0.5
             },
             "pattern": {
              "fillmode": "overlay",
              "size": 10,
              "solidity": 0.2
             }
            },
            "type": "bar"
           }
          ],
          "barpolar": [
           {
            "marker": {
             "line": {
              "color": "#E5ECF6",
              "width": 0.5
             },
             "pattern": {
              "fillmode": "overlay",
              "size": 10,
              "solidity": 0.2
             }
            },
            "type": "barpolar"
           }
          ],
          "carpet": [
           {
            "aaxis": {
             "endlinecolor": "#2a3f5f",
             "gridcolor": "white",
             "linecolor": "white",
             "minorgridcolor": "white",
             "startlinecolor": "#2a3f5f"
            },
            "baxis": {
             "endlinecolor": "#2a3f5f",
             "gridcolor": "white",
             "linecolor": "white",
             "minorgridcolor": "white",
             "startlinecolor": "#2a3f5f"
            },
            "type": "carpet"
           }
          ],
          "choropleth": [
           {
            "colorbar": {
             "outlinewidth": 0,
             "ticks": ""
            },
            "type": "choropleth"
           }
          ],
          "contour": [
           {
            "colorbar": {
             "outlinewidth": 0,
             "ticks": ""
            },
            "colorscale": [
             [
              0,
              "#0d0887"
             ],
             [
              0.1111111111111111,
              "#46039f"
             ],
             [
              0.2222222222222222,
              "#7201a8"
             ],
             [
              0.3333333333333333,
              "#9c179e"
             ],
             [
              0.4444444444444444,
              "#bd3786"
             ],
             [
              0.5555555555555556,
              "#d8576b"
             ],
             [
              0.6666666666666666,
              "#ed7953"
             ],
             [
              0.7777777777777778,
              "#fb9f3a"
             ],
             [
              0.8888888888888888,
              "#fdca26"
             ],
             [
              1,
              "#f0f921"
             ]
            ],
            "type": "contour"
           }
          ],
          "contourcarpet": [
           {
            "colorbar": {
             "outlinewidth": 0,
             "ticks": ""
            },
            "type": "contourcarpet"
           }
          ],
          "heatmap": [
           {
            "colorbar": {
             "outlinewidth": 0,
             "ticks": ""
            },
            "colorscale": [
             [
              0,
              "#0d0887"
             ],
             [
              0.1111111111111111,
              "#46039f"
             ],
             [
              0.2222222222222222,
              "#7201a8"
             ],
             [
              0.3333333333333333,
              "#9c179e"
             ],
             [
              0.4444444444444444,
              "#bd3786"
             ],
             [
              0.5555555555555556,
              "#d8576b"
             ],
             [
              0.6666666666666666,
              "#ed7953"
             ],
             [
              0.7777777777777778,
              "#fb9f3a"
             ],
             [
              0.8888888888888888,
              "#fdca26"
             ],
             [
              1,
              "#f0f921"
             ]
            ],
            "type": "heatmap"
           }
          ],
          "histogram": [
           {
            "marker": {
             "pattern": {
              "fillmode": "overlay",
              "size": 10,
              "solidity": 0.2
             }
            },
            "type": "histogram"
           }
          ],
          "histogram2d": [
           {
            "colorbar": {
             "outlinewidth": 0,
             "ticks": ""
            },
            "colorscale": [
             [
              0,
              "#0d0887"
             ],
             [
              0.1111111111111111,
              "#46039f"
             ],
             [
              0.2222222222222222,
              "#7201a8"
             ],
             [
              0.3333333333333333,
              "#9c179e"
             ],
             [
              0.4444444444444444,
              "#bd3786"
             ],
             [
              0.5555555555555556,
              "#d8576b"
             ],
             [
              0.6666666666666666,
              "#ed7953"
             ],
             [
              0.7777777777777778,
              "#fb9f3a"
             ],
             [
              0.8888888888888888,
              "#fdca26"
             ],
             [
              1,
              "#f0f921"
             ]
            ],
            "type": "histogram2d"
           }
          ],
          "histogram2dcontour": [
           {
            "colorbar": {
             "outlinewidth": 0,
             "ticks": ""
            },
            "colorscale": [
             [
              0,
              "#0d0887"
             ],
             [
              0.1111111111111111,
              "#46039f"
             ],
             [
              0.2222222222222222,
              "#7201a8"
             ],
             [
              0.3333333333333333,
              "#9c179e"
             ],
             [
              0.4444444444444444,
              "#bd3786"
             ],
             [
              0.5555555555555556,
              "#d8576b"
             ],
             [
              0.6666666666666666,
              "#ed7953"
             ],
             [
              0.7777777777777778,
              "#fb9f3a"
             ],
             [
              0.8888888888888888,
              "#fdca26"
             ],
             [
              1,
              "#f0f921"
             ]
            ],
            "type": "histogram2dcontour"
           }
          ],
          "mesh3d": [
           {
            "colorbar": {
             "outlinewidth": 0,
             "ticks": ""
            },
            "type": "mesh3d"
           }
          ],
          "parcoords": [
           {
            "line": {
             "colorbar": {
              "outlinewidth": 0,
              "ticks": ""
             }
            },
            "type": "parcoords"
           }
          ],
          "pie": [
           {
            "automargin": true,
            "type": "pie"
           }
          ],
          "scatter": [
           {
            "fillpattern": {
             "fillmode": "overlay",
             "size": 10,
             "solidity": 0.2
            },
            "type": "scatter"
           }
          ],
          "scatter3d": [
           {
            "line": {
             "colorbar": {
              "outlinewidth": 0,
              "ticks": ""
             }
            },
            "marker": {
             "colorbar": {
              "outlinewidth": 0,
              "ticks": ""
             }
            },
            "type": "scatter3d"
           }
          ],
          "scattercarpet": [
           {
            "marker": {
             "colorbar": {
              "outlinewidth": 0,
              "ticks": ""
             }
            },
            "type": "scattercarpet"
           }
          ],
          "scattergeo": [
           {
            "marker": {
             "colorbar": {
              "outlinewidth": 0,
              "ticks": ""
             }
            },
            "type": "scattergeo"
           }
          ],
          "scattergl": [
           {
            "marker": {
             "colorbar": {
              "outlinewidth": 0,
              "ticks": ""
             }
            },
            "type": "scattergl"
           }
          ],
          "scattermap": [
           {
            "marker": {
             "colorbar": {
              "outlinewidth": 0,
              "ticks": ""
             }
            },
            "type": "scattermap"
           }
          ],
          "scattermapbox": [
           {
            "marker": {
             "colorbar": {
              "outlinewidth": 0,
              "ticks": ""
             }
            },
            "type": "scattermapbox"
           }
          ],
          "scatterpolar": [
           {
            "marker": {
             "colorbar": {
              "outlinewidth": 0,
              "ticks": ""
             }
            },
            "type": "scatterpolar"
           }
          ],
          "scatterpolargl": [
           {
            "marker": {
             "colorbar": {
              "outlinewidth": 0,
              "ticks": ""
             }
            },
            "type": "scatterpolargl"
           }
          ],
          "scatterternary": [
           {
            "marker": {
             "colorbar": {
              "outlinewidth": 0,
              "ticks": ""
             }
            },
            "type": "scatterternary"
           }
          ],
          "surface": [
           {
            "colorbar": {
             "outlinewidth": 0,
             "ticks": ""
            },
            "colorscale": [
             [
              0,
              "#0d0887"
             ],
             [
              0.1111111111111111,
              "#46039f"
             ],
             [
              0.2222222222222222,
              "#7201a8"
             ],
             [
              0.3333333333333333,
              "#9c179e"
             ],
             [
              0.4444444444444444,
              "#bd3786"
             ],
             [
              0.5555555555555556,
              "#d8576b"
             ],
             [
              0.6666666666666666,
              "#ed7953"
             ],
             [
              0.7777777777777778,
              "#fb9f3a"
             ],
             [
              0.8888888888888888,
              "#fdca26"
             ],
             [
              1,
              "#f0f921"
             ]
            ],
            "type": "surface"
           }
          ],
          "table": [
           {
            "cells": {
             "fill": {
              "color": "#EBF0F8"
             },
             "line": {
              "color": "white"
             }
            },
            "header": {
             "fill": {
              "color": "#C8D4E3"
             },
             "line": {
              "color": "white"
             }
            },
            "type": "table"
           }
          ]
         },
         "layout": {
          "annotationdefaults": {
           "arrowcolor": "#2a3f5f",
           "arrowhead": 0,
           "arrowwidth": 1
          },
          "autotypenumbers": "strict",
          "coloraxis": {
           "colorbar": {
            "outlinewidth": 0,
            "ticks": ""
           }
          },
          "colorscale": {
           "diverging": [
            [
             0,
             "#8e0152"
            ],
            [
             0.1,
             "#c51b7d"
            ],
            [
             0.2,
             "#de77ae"
            ],
            [
             0.3,
             "#f1b6da"
            ],
            [
             0.4,
             "#fde0ef"
            ],
            [
             0.5,
             "#f7f7f7"
            ],
            [
             0.6,
             "#e6f5d0"
            ],
            [
             0.7,
             "#b8e186"
            ],
            [
             0.8,
             "#7fbc41"
            ],
            [
             0.9,
             "#4d9221"
            ],
            [
             1,
             "#276419"
            ]
           ],
           "sequential": [
            [
             0,
             "#0d0887"
            ],
            [
             0.1111111111111111,
             "#46039f"
            ],
            [
             0.2222222222222222,
             "#7201a8"
            ],
            [
             0.3333333333333333,
             "#9c179e"
            ],
            [
             0.4444444444444444,
             "#bd3786"
            ],
            [
             0.5555555555555556,
             "#d8576b"
            ],
            [
             0.6666666666666666,
             "#ed7953"
            ],
            [
             0.7777777777777778,
             "#fb9f3a"
            ],
            [
             0.8888888888888888,
             "#fdca26"
            ],
            [
             1,
             "#f0f921"
            ]
           ],
           "sequentialminus": [
            [
             0,
             "#0d0887"
            ],
            [
             0.1111111111111111,
             "#46039f"
            ],
            [
             0.2222222222222222,
             "#7201a8"
            ],
            [
             0.3333333333333333,
             "#9c179e"
            ],
            [
             0.4444444444444444,
             "#bd3786"
            ],
            [
             0.5555555555555556,
             "#d8576b"
            ],
            [
             0.6666666666666666,
             "#ed7953"
            ],
            [
             0.7777777777777778,
             "#fb9f3a"
            ],
            [
             0.8888888888888888,
             "#fdca26"
            ],
            [
             1,
             "#f0f921"
            ]
           ]
          },
          "colorway": [
           "#636efa",
           "#EF553B",
           "#00cc96",
           "#ab63fa",
           "#FFA15A",
           "#19d3f3",
           "#FF6692",
           "#B6E880",
           "#FF97FF",
           "#FECB52"
          ],
          "font": {
           "color": "#2a3f5f"
          },
          "geo": {
           "bgcolor": "white",
           "lakecolor": "white",
           "landcolor": "#E5ECF6",
           "showlakes": true,
           "showland": true,
           "subunitcolor": "white"
          },
          "hoverlabel": {
           "align": "left"
          },
          "hovermode": "closest",
          "mapbox": {
           "style": "light"
          },
          "paper_bgcolor": "white",
          "plot_bgcolor": "#E5ECF6",
          "polar": {
           "angularaxis": {
            "gridcolor": "white",
            "linecolor": "white",
            "ticks": ""
           },
           "bgcolor": "#E5ECF6",
           "radialaxis": {
            "gridcolor": "white",
            "linecolor": "white",
            "ticks": ""
           }
          },
          "scene": {
           "xaxis": {
            "backgroundcolor": "#E5ECF6",
            "gridcolor": "white",
            "gridwidth": 2,
            "linecolor": "white",
            "showbackground": true,
            "ticks": "",
            "zerolinecolor": "white"
           },
           "yaxis": {
            "backgroundcolor": "#E5ECF6",
            "gridcolor": "white",
            "gridwidth": 2,
            "linecolor": "white",
            "showbackground": true,
            "ticks": "",
            "zerolinecolor": "white"
           },
           "zaxis": {
            "backgroundcolor": "#E5ECF6",
            "gridcolor": "white",
            "gridwidth": 2,
            "linecolor": "white",
            "showbackground": true,
            "ticks": "",
            "zerolinecolor": "white"
           }
          },
          "shapedefaults": {
           "line": {
            "color": "#2a3f5f"
           }
          },
          "ternary": {
           "aaxis": {
            "gridcolor": "white",
            "linecolor": "white",
            "ticks": ""
           },
           "baxis": {
            "gridcolor": "white",
            "linecolor": "white",
            "ticks": ""
           },
           "bgcolor": "#E5ECF6",
           "caxis": {
            "gridcolor": "white",
            "linecolor": "white",
            "ticks": ""
           }
          },
          "title": {
           "x": 0.05
          },
          "xaxis": {
           "automargin": true,
           "gridcolor": "white",
           "linecolor": "white",
           "ticks": "",
           "title": {
            "standoff": 15
           },
           "zerolinecolor": "white",
           "zerolinewidth": 2
          },
          "yaxis": {
           "automargin": true,
           "gridcolor": "white",
           "linecolor": "white",
           "ticks": "",
           "title": {
            "standoff": 15
           },
           "zerolinecolor": "white",
           "zerolinewidth": 2
          }
         }
        },
        "title": {
         "text": "Early Withdrawal Analysis"
        },
        "width": 700,
        "xaxis": {
         "anchor": "y",
         "domain": [
          0,
          1
         ],
         "title": {
          "text": "Time"
         }
        },
        "yaxis": {
         "anchor": "x",
         "domain": [
          0,
          1
         ],
         "range": [
          0,
          1
         ],
         "title": {
          "text": "Probability of Survival"
         }
        }
       }
      }
     },
     "metadata": {},
     "output_type": "display_data"
    },
    {
     "data": {
      "text/html": [
       "<table border=\"1\" class=\"dataframe\">\n",
       "  <thead>\n",
       "    <tr style=\"text-align: right;\">\n",
       "      <th>1-year Survival Probability (95% CI)</th>\n",
       "      <th>1-year Early Withdrawal Probability (95% CI)</th>\n",
       "      <th>Survival Time (Adjusted)</th>\n",
       "      <th>Survival Time (Probability)</th>\n",
       "      <th>Survival Time (Max)</th>\n",
       "    </tr>\n",
       "  </thead>\n",
       "  <tbody>\n",
       "    <tr>\n",
       "      <td>0.0</td>\n",
       "      <td>100.0</td>\n",
       "      <td>1.0</td>\n",
       "      <td>0.0</td>\n",
       "      <td>1.0</td>\n",
       "    </tr>\n",
       "  </tbody>\n",
       "</table>"
      ],
      "text/plain": [
       "<IPython.core.display.HTML object>"
      ]
     },
     "metadata": {},
     "output_type": "display_data"
    }
   ],
   "source": [
    "time_points, survival_probabilities, confidence_interval, median_survival_time = kaplan_meier_estimator_custom(df)\n",
    "\n",
    "survival_probabilities_diff = survival_probabilities - 0.5\n",
    "median_survival_time_adj = np.interp(min(survival_probabilities_diff), survival_probabilities_diff[::-1], time_points[::-1])\n",
    "\n",
    "if max(survival_probabilities) > 0.5:  \n",
    "    median_survival_time = median_survival_time\n",
    "else:\n",
    "    median_survival_time = median_survival_time_adj\n",
    "\n",
    "fig = make_subplots(rows=1, cols=1, subplot_titles=(\"\"))\n",
    "\n",
    "fig.add_trace(go.Scatter(\n",
    "    x=time_points,\n",
    "    y=survival_probabilities,\n",
    "    mode='lines',\n",
    "    line=dict(color='darkorange'),\n",
    "    name='Notional / Core Deposit'),\n",
    "              row=1, col=1\n",
    "             )\n",
    "\n",
    "y_min = round(min(survival_probabilities),2)\n",
    "\n",
    "fig.update_layout(\n",
    "            title=\"Early Withdrawal Analysis\",\n",
    "            width=700,\n",
    "            height=500,\n",
    "            plot_bgcolor=\"#fff\",\n",
    "            showlegend=False,\n",
    "            yaxis=dict(range=[y_min,1])\n",
    ") \n",
    "\n",
    "\n",
    "fig.add_vline(x=median_survival_time_adj, line_width=2, line_dash=\"dot\", line_color=\"royalblue\")\n",
    "\n",
    "fig.update_xaxes(title_text=\"Time\", row=1, col=1)\n",
    "fig.update_yaxes(title_text=\"Probability of Survival\", row=1, col=1)\n",
    "\n",
    "fig.show()\n",
    "\n",
    "table_a = {'1-year Survival Probability (95% CI)': [],\n",
    "           '1-year Early Withdrawal Probability (95% CI)': [],\n",
    "           'Survival Time (Adjusted)': [],\n",
    "           'Survival Time (Probability)': [],\n",
    "           'Survival Time (Max)': []}\n",
    "\n",
    "table_a['1-year Survival Probability (95% CI)'].append(round((np.interp(365.25, time_points[::1], survival_probabilities[::1]))*100,2))\n",
    "table_a['1-year Early Withdrawal Probability (95% CI)'].append(round((1-np.interp(365.25, time_points[::1], survival_probabilities[::1]))*100,2))\n",
    "table_a['Survival Time (Adjusted)'].append(round(median_survival_time_adj,0))\n",
    "table_a['Survival Time (Probability)'].append(round((np.interp(median_survival_time_adj, time_points[::1], survival_probabilities[::1]))*100,2))\n",
    "table_a['Survival Time (Max)'].append(round(median_survival_time,0))\n",
    "\n",
    "table_a = pd.DataFrame(table_a)\n",
    "display(HTML(table_a.to_html(index=False)))"
   ]
  }
 ],
 "metadata": {
  "kernelspec": {
   "display_name": ".venv",
   "language": "python",
   "name": "python3"
  },
  "language_info": {
   "codemirror_mode": {
    "name": "ipython",
    "version": 3
   },
   "file_extension": ".py",
   "mimetype": "text/x-python",
   "name": "python",
   "nbconvert_exporter": "python",
   "pygments_lexer": "ipython3",
   "version": "3.13.7"
  }
 },
 "nbformat": 4,
 "nbformat_minor": 5
}
